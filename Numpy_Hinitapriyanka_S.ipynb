{
  "nbformat": 4,
  "nbformat_minor": 0,
  "metadata": {
    "colab": {
      "provenance": [],
      "authorship_tag": "ABX9TyNyZEjj4ptJkzZd7IKGgaN3",
      "include_colab_link": true
    },
    "kernelspec": {
      "name": "python3",
      "display_name": "Python 3"
    },
    "language_info": {
      "name": "python"
    }
  },
  "cells": [
    {
      "cell_type": "markdown",
      "metadata": {
        "id": "view-in-github",
        "colab_type": "text"
      },
      "source": [
        "<a href=\"https://colab.research.google.com/github/HINITAPRIYANKA/Scifor/blob/main/Numpy_Hinitapriyanka_S.ipynb\" target=\"_parent\"><img src=\"https://colab.research.google.com/assets/colab-badge.svg\" alt=\"Open In Colab\"/></a>"
      ]
    },
    {
      "cell_type": "markdown",
      "source": [
        "import re"
      ],
      "metadata": {
        "id": "86IGLaWOqXaO"
      }
    },
    {
      "cell_type": "code",
      "execution_count": null,
      "metadata": {
        "colab": {
          "base_uri": "https://localhost:8080/"
        },
        "id": "C3MtTTvMqV2t",
        "outputId": "82dda721-d8eb-40f4-da70-1c83b28e8c3e"
      },
      "outputs": [
        {
          "output_type": "stream",
          "name": "stdout",
          "text": [
            "[ True False False False]\n"
          ]
        }
      ],
      "source": [
        "import numpy as np\n",
        "import re\n",
        "\n",
        "data = np.array(['apple', 'banana', 'cherry', 'date'])\n",
        "\n",
        "pattern = re.compile(r'a.*')\n",
        "\n",
        "vectorized_function = np.vectorize(lambda x: bool(pattern.match(x)))\n",
        "\n",
        "result = vectorized_function(data)\n",
        "\n",
        "print(result)\n"
      ]
    },
    {
      "cell_type": "markdown",
      "source": [
        "creating numpy array"
      ],
      "metadata": {
        "id": "AnB_o21CrFrT"
      }
    },
    {
      "cell_type": "code",
      "source": [
        "import numpy as np\n",
        "\n",
        "# Create a 1D array\n",
        "arr1 = np.array([1, 2, 3, 4, 5])\n",
        "\n",
        "# Create a 2D array\n",
        "arr2 = np.array([[1, 2, 3], [4, 5, 6], [7, 8, 9]])\n",
        "\n",
        "print(\"1D array:\")\n",
        "print(arr1)\n",
        "\n",
        "print(\"\\n2D array:\")\n",
        "print(arr2)\n"
      ],
      "metadata": {
        "colab": {
          "base_uri": "https://localhost:8080/"
        },
        "id": "igCEMIi9rIqJ",
        "outputId": "9923c027-f133-4ee6-8227-aef36a15cb3c"
      },
      "execution_count": null,
      "outputs": [
        {
          "output_type": "stream",
          "name": "stdout",
          "text": [
            "1D array:\n",
            "[1 2 3 4 5]\n",
            "\n",
            "2D array:\n",
            "[[1 2 3]\n",
            " [4 5 6]\n",
            " [7 8 9]]\n"
          ]
        }
      ]
    },
    {
      "cell_type": "markdown",
      "source": [
        "Array operations"
      ],
      "metadata": {
        "id": "8ZPibkJQrPWQ"
      }
    },
    {
      "cell_type": "code",
      "source": [
        "import numpy as np\n",
        "\n",
        "# Create two arrays\n",
        "arr1 = np.array([1, 2, 3])\n",
        "arr2 = np.array([4, 5, 6])\n",
        "\n",
        "result_add = arr1 + arr2\n",
        "result_subtract = arr2 - arr1\n",
        "result_multiply = arr1 * arr2\n",
        "result_divide = arr2 % arr1\n",
        "\n",
        "print(\"Addition:\")\n",
        "print(result_add)\n",
        "print(\"\\n Subtraction:\")\n",
        "print(result_subtract)\n",
        "print(\"\\n Multiplication:\")\n",
        "print(result_multiply)\n",
        "print(\"\\n Division:\")\n",
        "print(result_divide)\n"
      ],
      "metadata": {
        "colab": {
          "base_uri": "https://localhost:8080/"
        },
        "id": "kqgp61_crUOo",
        "outputId": "a6ced550-8543-4696-bae4-db9ab369dad4"
      },
      "execution_count": null,
      "outputs": [
        {
          "output_type": "stream",
          "name": "stdout",
          "text": [
            "Addition:\n",
            "[5 7 9]\n",
            "\n",
            " Subtraction:\n",
            "[3 3 3]\n",
            "\n",
            " Multiplication:\n",
            "[ 4 10 18]\n",
            "\n",
            " Division:\n",
            "[0 1 0]\n"
          ]
        }
      ]
    },
    {
      "cell_type": "markdown",
      "source": [
        "Array indexing and slicing"
      ],
      "metadata": {
        "id": "b8mf1clBr9BD"
      }
    },
    {
      "cell_type": "code",
      "source": [
        "import numpy as np\n",
        "\n",
        "# Create a 1D array\n",
        "arr = np.array([0, 1, 2, 3, 4, 5, 6, 7, 8, 9])\n",
        "\n",
        "# Access individual elements\n",
        "print(\"Element at index 3:\", arr[3])\n",
        "\n",
        "# Slice the array\n",
        "print(\"Slice from index 2 to 6:\", arr[2:7])\n",
        "\n",
        "# Reverse the array\n",
        "print(\"Reversed array:\", arr[::-1])\n"
      ],
      "metadata": {
        "colab": {
          "base_uri": "https://localhost:8080/"
        },
        "id": "2zjL51vpsBGD",
        "outputId": "6f80ff0d-f0a3-4dd0-fb26-810bb663261f"
      },
      "execution_count": null,
      "outputs": [
        {
          "output_type": "stream",
          "name": "stdout",
          "text": [
            "Element at index 3: 3\n",
            "Slice from index 2 to 6: [2 3 4 5 6]\n",
            "Reversed array: [9 8 7 6 5 4 3 2 1 0]\n"
          ]
        }
      ]
    },
    {
      "cell_type": "markdown",
      "source": [
        "Statistical operations"
      ],
      "metadata": {
        "id": "C7u0QXUgsJGP"
      }
    },
    {
      "cell_type": "code",
      "source": [
        "import numpy as np\n",
        "\n",
        "# Create an array\n",
        "data = np.array([1, 2, 3, 4, 5, 6, 7, 8, 9])\n",
        "\n",
        "# Calculate mean, median, and standard deviation\n",
        "mean_value = np.mean(data)\n",
        "median_value = np.median(data)\n",
        "std_deviation = np.std(data)\n",
        "\n",
        "print(\"Mean:\", mean_value)\n",
        "print(\"Median:\", median_value)\n",
        "print(\"Standard Deviation:\", std_deviation)\n"
      ],
      "metadata": {
        "id": "ITbtV_CgsNnJ"
      },
      "execution_count": null,
      "outputs": []
    }
  ]
}