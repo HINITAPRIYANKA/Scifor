{
  "cells": [
    {
      "cell_type": "markdown",
      "metadata": {
        "id": "view-in-github",
        "colab_type": "text"
      },
      "source": [
        "<a href=\"https://colab.research.google.com/github/HINITAPRIYANKA/Scifor/blob/main/10_1_24_Assignment_Hinitapriyanka.ipynb\" target=\"_parent\"><img src=\"https://colab.research.google.com/assets/colab-badge.svg\" alt=\"Open In Colab\"/></a>"
      ]
    },
    {
      "cell_type": "code",
      "execution_count": null,
      "metadata": {
        "colab": {
          "base_uri": "https://localhost:8080/"
        },
        "id": "pmIwy6ToQBaW",
        "outputId": "93e8a13a-3b58-438e-99cc-3724669643bb"
      },
      "outputs": [
        {
          "name": "stdout",
          "output_type": "stream",
          "text": [
            "Enter the number of rows: 3\n",
            "Enter the number of columns: 4\n",
            "There are 12 desks in the classroom.\n"
          ]
        }
      ],
      "source": [
        "num_rows = int(input(\"Enter the number of rows: \"))\n",
        "num_columns = int(input(\"Enter the number of columns: \"))\n",
        "total_desks = num_rows * num_columns\n",
        "print(f\"There are {total_desks} desks in the classroom.\")"
      ]
    },
    {
      "cell_type": "code",
      "execution_count": null,
      "metadata": {
        "colab": {
          "base_uri": "https://localhost:8080/"
        },
        "id": "jRTGPTaoQS3k",
        "outputId": "c7b6b96b-c143-491d-b57f-0b894403b56c"
      },
      "outputs": [
        {
          "name": "stdout",
          "output_type": "stream",
          "text": [
            "Enter your authorization code (0 for team members, 1 for guests): 1\n",
            "Door Opened\n",
            "Welcome to the Party, We hope you have fun.\n",
            "Total number of guests: 1\n"
          ]
        }
      ],
      "source": [
        "\n",
        "number_of_guests = 0\n",
        "authorization_code = int(input(\"Enter your authorization code (0 for team members, 1 for guests): \"))\n",
        "if authorization_code == 0:\n",
        "    print(\"Access Granted\")\n",
        "    print(\"Door Opened\")\n",
        "elif authorization_code == 1:\n",
        "    number_of_guests += 1\n",
        "    print(\"Door Opened\")\n",
        "    print(\"Welcome to the Party, We hope you have fun.\")\n",
        "else:\n",
        "    print(\"Invalid authorization code. Please enter a valid code.\")\n",
        "print(f\"Total number of guests: {number_of_guests}\")\n"
      ]
    },
    {
      "cell_type": "code",
      "execution_count": null,
      "metadata": {
        "colab": {
          "base_uri": "https://localhost:8080/"
        },
        "id": "co_0UhZNQ16z",
        "outputId": "dc3436c3-b533-4c61-ffa3-f3a05549b9a6"
      },
      "outputs": [
        {
          "name": "stdout",
          "output_type": "stream",
          "text": [
            "Enter the start of the range: 2\n",
            "Enter the end of the range: 8\n",
            "Even numbers in the range:\n",
            "2\n",
            "4\n",
            "6\n",
            "8\n",
            "Odd numbers in the range:\n",
            "3\n",
            "5\n",
            "7\n"
          ]
        }
      ],
      "source": [
        "\n",
        "start_range = int(input(\"Enter the start of the range: \"))\n",
        "end_range = int(input(\"Enter the end of the range: \"))\n",
        "print(\"Even numbers in the range:\")\n",
        "for num in range(start_range, end_range + 1):\n",
        "    if num % 2 == 0:\n",
        "        print(num)\n",
        "print(\"Odd numbers in the range:\")\n",
        "for num in range(start_range, end_range + 1):\n",
        "    if num % 2 != 0:\n",
        "        print(num)\n"
      ]
    },
    {
      "cell_type": "code",
      "execution_count": null,
      "metadata": {
        "colab": {
          "base_uri": "https://localhost:8080/"
        },
        "id": "gSKVGpUnQ9vd",
        "outputId": "86608f65-18c4-41e7-c180-8d51344c8459"
      },
      "outputs": [
        {
          "name": "stdout",
          "output_type": "stream",
          "text": [
            "Enter the essay: Hi this is a rose and it is a flower and you can smell it. \n",
            "The essay contains 16 words.\n",
            "This essay does not meet the minimum word requirement of 250 words.\n"
          ]
        }
      ],
      "source": [
        "\n",
        "essay = input(\"Enter the essay: \")\n",
        "word_count = 1\n",
        "for char in essay:\n",
        "    if char == ' ':\n",
        "        word_count += 1\n",
        "print(f\"The essay contains {word_count} words.\")\n",
        "if word_count >= 50:\n",
        "    print(\"This essay meets the minimum word requirement.\")\n",
        "else:\n",
        "    print(\"This essay does not meet the minimum word requirement of 250 words.\")\n"
      ]
    },
    {
      "cell_type": "code",
      "execution_count": null,
      "metadata": {
        "colab": {
          "base_uri": "https://localhost:8080/"
        },
        "id": "R9AYoasERdV4",
        "outputId": "4b7419ea-a73a-44a4-8890-55f8d4ca9a68"
      },
      "outputs": [
        {
          "name": "stdout",
          "output_type": "stream",
          "text": [
            "Enter a number: 5\n",
            "5 is a prime number.\n"
          ]
        }
      ],
      "source": [
        "\n",
        "num = int(input(\"Enter a number: \"))\n",
        "if num > 1:\n",
        "    for i in range(2, int(num**0.5) + 1):\n",
        "        if num % i == 0:\n",
        "            print(f\"{num} is not a prime number.\")\n",
        "            print(f\"{i} times {num//i} is {num}.\")\n",
        "            break\n",
        "    else:\n",
        "        print(f\"{num} is a prime number.\")\n",
        "else:\n",
        "    print(f\"{num} is not a prime number.\")\n"
      ]
    },
    {
      "cell_type": "code",
      "execution_count": null,
      "metadata": {
        "colab": {
          "base_uri": "https://localhost:8080/"
        },
        "id": "au69BUl4SI70",
        "outputId": "cf2ebdaf-e011-4079-ee8c-eeb2569f1c1a"
      },
      "outputs": [
        {
          "name": "stdout",
          "output_type": "stream",
          "text": [
            "Current Student Details:\n",
            "10: Arjun\n",
            "11: Rajesh\n",
            "12: Rajesh\n",
            "13: Sathish\n",
            "\n",
            "Updated Student Details:\n",
            "10: Arjun\n",
            "11: Rajesh\n",
            "12: Rajesh\n",
            "13: Sathish\n",
            "14: John\n",
            "15: Emma\n",
            "\n",
            "Messages Sent:\n",
            "Message sent to: empid 10\n",
            "Message sent to: empid 11\n",
            "Message sent to: empid 12\n",
            "Message sent to: empid 13\n",
            "Message sent to: empid 14\n",
            "Message sent to: empid 15\n"
          ]
        }
      ],
      "source": [
        "# Create an empty dictionary for student details\n",
        "student_details = {}\n",
        "\n",
        "# Add existing student data\n",
        "student_details[10] = \"Arjun\"\n",
        "student_details[11] = \"Rajesh\"\n",
        "student_details[12] = \"Rajesh\"\n",
        "student_details[13] = \"Sathish\"\n",
        "\n",
        "# Print the current student details\n",
        "print(\"Current Student Details:\")\n",
        "for emp_id, name in student_details.items():\n",
        "    print(f\"{emp_id}: {name}\")\n",
        "\n",
        "# Assign unique student IDs to two new students\n",
        "new_student1 = \"John\"\n",
        "new_student2 = \"Emma\"\n",
        "student_details[14] = new_student1\n",
        "student_details[15] = new_student2\n",
        "\n",
        "# Print the updated student details\n",
        "print(\"\\nUpdated Student Details:\")\n",
        "for emp_id, name in student_details.items():\n",
        "    print(f\"{emp_id}: {name}\")\n",
        "\n",
        "# Send a message to each student using their student ID\n",
        "print(\"\\nMessages Sent:\")\n",
        "for emp_id in student_details:\n",
        "    print(f\"Message sent to: empid {emp_id}\")\n"
      ]
    },
    {
      "cell_type": "code",
      "execution_count": null,
      "metadata": {
        "colab": {
          "background_save": true,
          "base_uri": "https://localhost:8080/"
        },
        "id": "XrQzLWMoSlj5",
        "outputId": "0830f174-5967-48b9-eb38-cdd6cc68b70f"
      },
      "outputs": [
        {
          "name": "stdout",
          "output_type": "stream",
          "text": [
            "\n",
            "Student Management Program\n",
            "1. Add Student\n",
            "2. Display Student Details\n",
            "3. Update Student Information\n",
            "4. Delete Student\n",
            "5. Exit\n",
            "Student hini added successfully.\n",
            "\n",
            "Student Management Program\n",
            "1. Add Student\n",
            "2. Display Student Details\n",
            "3. Update Student Information\n",
            "4. Delete Student\n",
            "5. Exit\n"
          ]
        }
      ],
      "source": [
        "# Initialize an empty dictionary to store student details\n",
        "student_details = {}\n",
        "\n",
        "# Main loop for student management program\n",
        "while True:\n",
        "    print(\"\\nStudent Management Program\")\n",
        "    print(\"1. Add Student\")\n",
        "    print(\"2. Display Student Details\")\n",
        "    print(\"3. Update Student Information\")\n",
        "    print(\"4. Delete Student\")\n",
        "    print(\"5. Exit\")\n",
        "\n",
        "    choice = int(input(\"Enter your choice (1-5): \"))\n",
        "\n",
        "    # Add Student\n",
        "    if choice == 1:\n",
        "        student_id = int(input(\"Enter Student ID: \"))\n",
        "        student_name = input(\"Enter Student Name: \")\n",
        "        student_details[student_id] = student_name\n",
        "        print(f\"Student {student_name} added successfully.\")\n",
        "\n",
        "    # Display Student Details\n",
        "    elif choice == 2:\n",
        "        print(\"\\nStudent Details:\")\n",
        "        for emp_id, name in student_details.items():\n",
        "            print(f\"{emp_id}: {name}\")\n",
        "\n",
        "    # Update Student Information\n",
        "    elif choice == 3:\n",
        "        student_id = int(input(\"Enter Student ID to update: \"))\n",
        "        if student_id in student_details:\n",
        "            new_name = input(\"Enter new name: \")\n",
        "            student_details[student_id] = new_name\n",
        "            print(f\"Student information updated for ID {student_id}.\")\n",
        "        else:\n",
        "            print(f\"Student with ID {student_id} not found.\")\n",
        "\n",
        "    # Delete Student\n",
        "    elif choice == 4:\n",
        "        student_id = int(input(\"Enter Student ID to delete: \"))\n",
        "        if student_id in student_details:\n",
        "            del student_details[student_id]\n",
        "            print(f\"Student with ID {student_id} deleted.\")\n",
        "        else:\n",
        "            print(f\"Student with ID {student_id} not found.\")\n",
        "\n",
        "    # Exit\n",
        "    elif choice == 5:\n",
        "        print(\"Exiting Student Management Program.\")\n",
        "        break\n",
        "\n",
        "    else:\n",
        "        print(\"Invalid choice. Please enter a valid option (1-5).\")\n"
      ]
    }
  ],
  "metadata": {
    "colab": {
      "provenance": [],
      "authorship_tag": "ABX9TyPqnKmT8/OmS+RobKmPO7kY",
      "include_colab_link": true
    },
    "kernelspec": {
      "display_name": "Python 3",
      "name": "python3"
    },
    "language_info": {
      "name": "python"
    }
  },
  "nbformat": 4,
  "nbformat_minor": 0
}