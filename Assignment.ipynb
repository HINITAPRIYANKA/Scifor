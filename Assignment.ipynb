{
  "nbformat": 4,
  "nbformat_minor": 0,
  "metadata": {
    "colab": {
      "provenance": [],
      "authorship_tag": "ABX9TyMz0pktIejjorIxW/LBy6am",
      "include_colab_link": true
    },
    "kernelspec": {
      "name": "python3",
      "display_name": "Python 3"
    },
    "language_info": {
      "name": "python"
    }
  },
  "cells": [
    {
      "cell_type": "markdown",
      "metadata": {
        "id": "view-in-github",
        "colab_type": "text"
      },
      "source": [
        "<a href=\"https://colab.research.google.com/github/HINITAPRIYANKA/Scifor/blob/main/Assignment.ipynb\" target=\"_parent\"><img src=\"https://colab.research.google.com/assets/colab-badge.svg\" alt=\"Open In Colab\"/></a>"
      ]
    },
    {
      "cell_type": "code",
      "execution_count": null,
      "metadata": {
        "colab": {
          "base_uri": "https://localhost:8080/"
        },
        "id": "M30MKPgGmfxY",
        "outputId": "a6faa130-1f0c-4a19-fbfa-987cef58749c"
      },
      "outputs": [
        {
          "output_type": "stream",
          "name": "stdout",
          "text": [
            "Hi\n"
          ]
        }
      ],
      "source": [
        "print(\"Hi\")"
      ]
    },
    {
      "cell_type": "code",
      "source": [
        "print(\"Arvind\")\n",
        "print(\"Hinitapriyanka\")\n",
        "age=\"21\"\n",
        "print(age)"
      ],
      "metadata": {
        "colab": {
          "base_uri": "https://localhost:8080/"
        },
        "id": "H8VfTv8jvcwF",
        "outputId": "bc9dfa60-d7d3-4ac5-b88a-6cee09768e79"
      },
      "execution_count": null,
      "outputs": [
        {
          "output_type": "stream",
          "name": "stdout",
          "text": [
            "Arvind\n",
            "Hinitapriyanka\n",
            "21\n"
          ]
        }
      ]
    },
    {
      "cell_type": "code",
      "source": [
        "print(\"|-\\/\")\n",
        "print(\"\\-||-/\")\n",
        "print(\"|_|\")\n"
      ],
      "metadata": {
        "colab": {
          "base_uri": "https://localhost:8080/"
        },
        "id": "krCLd1V7yCRr",
        "outputId": "4c5decce-a3ed-4fbc-ab68-d519bb9a152c"
      },
      "execution_count": null,
      "outputs": [
        {
          "output_type": "stream",
          "name": "stdout",
          "text": [
            "|-\\/\n",
            "\\-||-/\n",
            "|_|\n"
          ]
        }
      ]
    },
    {
      "cell_type": "code",
      "source": [
        "print(\"Hini\\nSus\\npriya\\nsheebu\\nmonu\")"
      ],
      "metadata": {
        "colab": {
          "base_uri": "https://localhost:8080/"
        },
        "id": "V8n3yOJoyu3e",
        "outputId": "5a36d1d2-a45d-4c4a-82ec-1bf2abee6912"
      },
      "execution_count": null,
      "outputs": [
        {
          "output_type": "stream",
          "name": "stdout",
          "text": [
            "Hini\n",
            "Sus\n",
            "priya\n",
            "sheebu\n",
            "monu\n"
          ]
        }
      ]
    },
    {
      "cell_type": "code",
      "source": [
        "Name=input(\"Enter Name:\")\n",
        "Age=input(\"Enter age:\")\n",
        "Address=input(\"Enter address:\")\n",
        "print(\"Hi, My Name is \"+Name+\",and I am \"+Age+\" Years old. I am from \"+Address+\".\")"
      ],
      "metadata": {
        "colab": {
          "base_uri": "https://localhost:8080/"
        },
        "id": "3ULWv9XzzC7n",
        "outputId": "15bc388e-c4ce-4faa-812d-e2dd3c4ce7ba"
      },
      "execution_count": null,
      "outputs": [
        {
          "output_type": "stream",
          "name": "stdout",
          "text": [
            "Enter Name:Hinita\n",
            "Enter age:21\n",
            "Enter address:Vellore  \n",
            "Hi, My Name is Hinita,and I am 21 Years old. I am from Vellore  .\n"
          ]
        }
      ]
    },
    {
      "cell_type": "code",
      "source": [
        "print(\"Hi, Iam a chatbot\")\n",
        "a,b=1024,98\n",
        "Grade=8\n",
        "Name=\"Nidhi\"\n",
        "print(\"what is your name?\\n\",Name)\n",
        "print(\"Oh Nidhi, In which grade you are right now?\\n\",Grade)\n",
        "print(\"Tell me 1024+98\\n\" ,a+b)\n",
        "print(\"Good! Your answeris correct,Bye.\\nbye \")"
      ],
      "metadata": {
        "colab": {
          "base_uri": "https://localhost:8080/"
        },
        "id": "utNUNhjJPODu",
        "outputId": "e4cf16d3-b21f-4094-ef0f-9a54d94959c5"
      },
      "execution_count": null,
      "outputs": [
        {
          "output_type": "stream",
          "name": "stdout",
          "text": [
            "Hi, Iam a chatbot\n",
            "what is your name?\n",
            " Nidhi\n",
            "Oh Nidhi, In which grade you are right now?\n",
            " 8\n",
            "Tell me 1024+98\n",
            " 1122\n",
            "Good! Your answeris correct,Bye.\n",
            "bye \n"
          ]
        }
      ]
    },
    {
      "cell_type": "code",
      "source": [
        "No_of_books=int(input(\"Enter the number of books:\"))\n",
        "Book_price=150\n",
        "Total_price=No_of_books * Book_price\n",
        "print(\"Amount to be paid:\",Total_price)\n",
        "\n"
      ],
      "metadata": {
        "colab": {
          "base_uri": "https://localhost:8080/"
        },
        "id": "QoYdDPG1m8hb",
        "outputId": "deb322ac-da8b-44bf-c021-3587592295c7"
      },
      "execution_count": null,
      "outputs": [
        {
          "output_type": "stream",
          "name": "stdout",
          "text": [
            "Enter the number of books:2\n",
            "Amount to be paid: 300\n"
          ]
        }
      ]
    },
    {
      "cell_type": "code",
      "source": [
        "X=int(input(\"Enter first number:\"))\n",
        "Y=int(input(\"Enter Second number\"))\n",
        "print(\"Addition:\",X+Y)\n",
        "print(\"Subtraction:\",X-Y)\n",
        "print(\"Multiplication:\",X*Y)\n",
        "print(\"Division:\",X/Y)\n"
      ],
      "metadata": {
        "colab": {
          "base_uri": "https://localhost:8080/"
        },
        "id": "RxsTl1xOg9gL",
        "outputId": "07943c1b-46c7-41d2-e66d-b4757ef394ff"
      },
      "execution_count": null,
      "outputs": [
        {
          "output_type": "stream",
          "name": "stdout",
          "text": [
            "Enter first number:10\n",
            "Enter Second number5\n",
            "Addition: 15\n",
            "Subtraction: 5\n",
            "Multiplication: 50\n",
            "Division: 2.0\n"
          ]
        }
      ]
    },
    {
      "cell_type": "code",
      "source": [
        "Current_year=2024\n",
        "Birth_year=int(input(\"Enter the birth year:\"))\n",
        "Age=Current_year - Birth_year\n",
        "print(\"Your age is:\",Age)\n",
        "\n"
      ],
      "metadata": {
        "colab": {
          "base_uri": "https://localhost:8080/"
        },
        "id": "ArStkIWzo-9U",
        "outputId": "c5a625a7-ace5-4290-b09e-1fb48c8f9d79"
      },
      "execution_count": null,
      "outputs": [
        {
          "output_type": "stream",
          "name": "stdout",
          "text": [
            "Enter the birth year:2002\n",
            "Your age is: 22\n"
          ]
        }
      ]
    }
  ]
}