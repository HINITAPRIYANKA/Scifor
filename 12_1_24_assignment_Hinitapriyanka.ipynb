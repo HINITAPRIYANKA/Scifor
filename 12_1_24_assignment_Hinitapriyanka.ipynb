{
  "nbformat": 4,
  "nbformat_minor": 0,
  "metadata": {
    "colab": {
      "provenance": [],
      "authorship_tag": "ABX9TyPXTnkQaFhl2P8pc5L1umTo",
      "include_colab_link": true
    },
    "kernelspec": {
      "name": "python3",
      "display_name": "Python 3"
    },
    "language_info": {
      "name": "python"
    }
  },
  "cells": [
    {
      "cell_type": "markdown",
      "metadata": {
        "id": "view-in-github",
        "colab_type": "text"
      },
      "source": [
        "<a href=\"https://colab.research.google.com/github/HINITAPRIYANKA/Scifor/blob/main/12_1_24_assignment_Hinitapriyanka.ipynb\" target=\"_parent\"><img src=\"https://colab.research.google.com/assets/colab-badge.svg\" alt=\"Open In Colab\"/></a>"
      ]
    },
    {
      "cell_type": "markdown",
      "source": [
        "Priyanka wants to read a text file using python and she wants to print the content of that file in the terminal. But she is unable to specify the file name correctly. To help Priyanka write a program in python and show how to read the content of the text file and print it on the screen using python. ● Name of the text file: aboutPython.txt ● Content: ● Python is an interpreted, object-oriented, high-level programming language with dynamic semantics. It's high-level built in data structures, combined with dynamic typing and dynamic binding, make it very attractive for Rapid Application Development, as well as for use as a scripting or glue language to connect existing components together. Python's simple, easy to learn syntax emphasizes readability and therefore reduces the cost of program maintenance. Python supports modules and packages, which encourages program modularity and code reuse. The Python interpreter and the extensive standard library are available in source or binary form without charge for all major platforms, and can be freely distributed. ● . ● Hint: ● Create a text file aboutPython.txt ● Copy the given content in that file ● Using python read the content of the file. ● Use the concept of file handling."
      ],
      "metadata": {
        "id": "xGU4XHZiLZSU"
      }
    },
    {
      "cell_type": "code",
      "source": [
        "file = open(\"aboutPython.txt\",\"r\")\n",
        "print(file.read())"
      ],
      "metadata": {
        "colab": {
          "base_uri": "https://localhost:8080/"
        },
        "id": "vynSbom7Tv-B",
        "outputId": "609f29c1-5893-4f99-996d-84bfe3bdc6f3"
      },
      "execution_count": null,
      "outputs": [
        {
          "output_type": "stream",
          "name": "stdout",
          "text": [
            "1.Python is a high-level, interpreted, and dynamically-typed programming language known for its readability, simplicity, and versatility. \n",
            "2.It was Created by Guido van Rossum and first released in 1991.\n",
            "3.Python has gained widespread popularity and is widely used in various domains, including web development, data science, artificial intelligence, automation, and more.\n",
            "\n",
            "i)Readability:\n",
            "\n",
            "Python emphasizes code readability and uses a clean and straightforward syntax.\n",
            "The use of indentation (whitespace) rather than braces makes the code visually structured and more readable.\n",
            "\n",
            "ii)Versatility:\n",
            "\n",
            "Python is a versatile language suitable for a wide range of applications, from simple scripts to complex software development projects.\n",
            "It supports both procedural and object-oriented programming paradigms.\n",
            "\n",
            "iii)Interpreted and Interactive:\n",
            "\n",
            "Python is an interpreted language, meaning that the source code is executed line by line, making it easy to test and debug.\n",
            "Python also provides an interactive mode, allowing developers to execute statements and test code snippets interactively.\n",
            "\n",
            "iv)Dynamic Typing:\n",
            "\n",
            "Python uses dynamic typing, where the type of a variable is determined at runtime. This provides flexibility but requires careful attention to variable types.\n",
            "\n",
            "v)Extensive Standard Library:\n",
            "\n",
            "Python comes with a rich standard library that provides modules and packages for a wide range of functionalities, from file handling to network programming.\n",
            "\n",
            "\n",
            "\n",
            "\n",
            "\n",
            "\n",
            "\n",
            "\n"
          ]
        }
      ]
    },
    {
      "cell_type": "markdown",
      "source": [
        "\n",
        "Himanshi has a text file and she wants to check whether that file contains any numerical value. So to help Himanshi write a python program that can check whether the text file includes any numerical value or not. As text files contain so many lines, so print the line number that has numerical values\n"
      ],
      "metadata": {
        "id": "xGxv-ITSUXwF"
      }
    },
    {
      "cell_type": "code",
      "source": [
        "file=open(\"Python.txt\",\"r\")\n",
        "line_Num=0\n",
        "for line in file:\n",
        "  line_Num+=1\n",
        "  if any(char.isdigit() for char in line):\n",
        "     print(\"Line\",line_Num,\":\",line.strip())\n",
        "file.close()"
      ],
      "metadata": {
        "colab": {
          "base_uri": "https://localhost:8080/"
        },
        "id": "zgdWg7TjVKtM",
        "outputId": "1f1dc0be-0c0d-4904-b18c-fd2e84c043ce"
      },
      "execution_count": null,
      "outputs": [
        {
          "output_type": "stream",
          "name": "stdout",
          "text": [
            "Line 1 : 1.Readability Matters:\n",
            "Line 3 : Python places a strong emphasis on code readability. Follow the PEP 8 style guide to ensure clean and readable code.\n",
            "Line 8 : 2.Dynamic Typing:\n",
            "Line 12 : 3.Versatility and Applicability:\n"
          ]
        }
      ]
    },
    {
      "cell_type": "markdown",
      "source": [
        "\n",
        "● Shubham had created a BMI calculator to check his health condition daily. But he is not able to record the values. He wants to see how his BMI is changing. So he decided to connect his BMI program with a text file using the concept of file handling. Now, when he uses his BMI program, his height, weight, BMI, and date get added to a text file \"bmi.txt\". Create a program that can do the same thing for you.\n"
      ],
      "metadata": {
        "id": "bRi0LUcD6R67"
      }
    },
    {
      "cell_type": "code",
      "source": [
        "Height = float(input(\"Enter your Height in Meter:\"))\n",
        "Weight = float(input(\"Enter your Weight in Kilograms:\"))\n",
        "BMI = Weight/(Height**2)\n",
        "Date = input(\"Enter the current date (YYYY-MM-DD): \")\n",
        "file = open(\"bmi.txt\",\"a\")\n",
        "file.write(f\"{Date} {Height} {Weight} {BMI}\\n\")\n",
        "print(\"Your BMI is:\",BMI)\n",
        "print(\"BMI record has been added to bmi.txt.\")"
      ],
      "metadata": {
        "colab": {
          "base_uri": "https://localhost:8080/"
        },
        "id": "RikEYYuN8-K5",
        "outputId": "296cc15f-8ca0-41fb-e3b1-eacfe5c475cc"
      },
      "execution_count": null,
      "outputs": [
        {
          "output_type": "stream",
          "name": "stdout",
          "text": [
            "Enter your Height in Meter:152\n",
            "Enter your Weight in Kilograms:60\n",
            "Enter the current date (YYYY-MM-DD): 2024-01-24\n",
            "Your BMI is: 0.0025969529085872575\n",
            "BMI record has been added to bmi.txt.\n"
          ]
        }
      ]
    },
    {
      "cell_type": "markdown",
      "source": [
        "● Arvind has a huge text file and he wants to put a serial number at the beginning of each line. Doing this task manually can take a lot of time. He is not aware of python file handling. Write a python program that can put a serial number in front of each line in any specified text file."
      ],
      "metadata": {
        "id": "KYQVpVO1-oAL"
      }
    },
    {
      "cell_type": "code",
      "source": [
        "file1=\"Python.txt\"\n",
        "file = open(\"Python.txt\",\"r\")\n",
        "lines=file.readlines()\n",
        "file = open(\"Python.txt\",\"w\")\n",
        "for i in range(len(lines)):\n",
        "        file.write(str(i + 1) + \".\" + lines[i])\n",
        "print(\"Serial numbers added and saved to:\",file1)"
      ],
      "metadata": {
        "colab": {
          "base_uri": "https://localhost:8080/"
        },
        "id": "kgzHjNep-siJ",
        "outputId": "c8969436-9049-40e7-fd04-01d90206a503"
      },
      "execution_count": null,
      "outputs": [
        {
          "output_type": "stream",
          "name": "stdout",
          "text": [
            "Serial numbers added and saved to: Python.txt\n"
          ]
        }
      ]
    },
    {
      "cell_type": "markdown",
      "source": [
        "Arunima created a text file on programming where she wrote the word language incorrectly many times. Now she wants to replace the incorrect word with the correct word. Doing it manually can take a lot of time plus she can miss out few words at the end. To help Arunima to replace the words write a python program. Use the concept of file handling and make changes in the text file."
      ],
      "metadata": {
        "id": "Gvz8KL7k_JWO"
      }
    },
    {
      "cell_type": "code",
      "source": [
        "file1=\"lang.txt\"\n",
        "file = open(\"lang.txt\", 'r')\n",
        "content = file.read()\n",
        "corrected_content = content.replace(\"langaugge\", \"language\")\n",
        "file = open(\"lang.txt\", 'w')\n",
        "file.write(corrected_content)\n",
        "print(\"Word replaced in\",file1)"
      ],
      "metadata": {
        "colab": {
          "base_uri": "https://localhost:8080/"
        },
        "id": "Jq51vYJc_NOd",
        "outputId": "66a81c58-27f5-42fb-ba87-58d329845696"
      },
      "execution_count": null,
      "outputs": [
        {
          "output_type": "stream",
          "name": "stdout",
          "text": [
            "Word replaced in lang.txt\n"
          ]
        }
      ]
    },
    {
      "cell_type": "markdown",
      "source": [
        "● Ayman wants to modify one of his text files. In his text file, he wants to start a new line whenever he encounters a number followed by a period(.). So he decides to do the same with the help of the python program. Write a program for Ayman."
      ],
      "metadata": {
        "id": "2EBpLEEMAyBx"
      }
    },
    {
      "cell_type": "code",
      "source": [
        "file1=\"Comp.txt\"\n",
        "file = open(\"Comp.txt\",\"r\")\n",
        "content=file.read()\n",
        "file2 = content.replace(\".\",\".\\n\")\n",
        "file=open(\"Comp.txt\",\"w\")\n",
        "file.write(file2)\n",
        "print(\"The File\",file1, \"is Modified\")"
      ],
      "metadata": {
        "colab": {
          "base_uri": "https://localhost:8080/"
        },
        "id": "p1GBam6aA1TG",
        "outputId": "c5b401c4-bbc9-4703-830f-61141722479c"
      },
      "execution_count": null,
      "outputs": [
        {
          "output_type": "stream",
          "name": "stdout",
          "text": [
            "The File Comp.txt is Modified\n"
          ]
        }
      ]
    },
    {
      "cell_type": "markdown",
      "source": [
        "Nidhi has a bad habit of repeating the same word while typing. She wants a program that can remove duplicate phrases from paragraphs written by her. To help Nidhi write a python program that can connect with a text file and remove repeating words."
      ],
      "metadata": {
        "id": "G5gF5hIFEq5c"
      }
    },
    {
      "cell_type": "code",
      "source": [
        "file_name = \"Flower.txt\"\n",
        "file = open(\"Flower.txt\", 'r')\n",
        "content = file.read()\n",
        "words = content.split()\n",
        "unique_words = list(set(words))\n",
        "modified_content = ' '.join(unique_words)\n",
        "file = open(\"Flower.txt\", 'w')\n",
        "file.write(modified_content)\n",
        "print(f\"Duplicate words removed and saved to {file_name}.\")"
      ],
      "metadata": {
        "colab": {
          "base_uri": "https://localhost:8080/"
        },
        "id": "A6Kpma7LFlDH",
        "outputId": "13cbec20-65ab-4cbd-cc9d-4514c2ccf959"
      },
      "execution_count": null,
      "outputs": [
        {
          "output_type": "stream",
          "name": "stdout",
          "text": [
            "Duplicate words removed and saved to Flower.txt.\n"
          ]
        }
      ]
    }
  ]
}