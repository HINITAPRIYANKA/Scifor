{
  "nbformat": 4,
  "nbformat_minor": 0,
  "metadata": {
    "colab": {
      "provenance": [],
      "include_colab_link": true
    },
    "kernelspec": {
      "name": "python3",
      "display_name": "Python 3"
    },
    "language_info": {
      "name": "python"
    }
  },
  "cells": [
    {
      "cell_type": "markdown",
      "metadata": {
        "id": "view-in-github",
        "colab_type": "text"
      },
      "source": [
        "<a href=\"https://colab.research.google.com/github/HINITAPRIYANKA/Scifor/blob/main/LIST.ipynb\" target=\"_parent\"><img src=\"https://colab.research.google.com/assets/colab-badge.svg\" alt=\"Open In Colab\"/></a>"
      ]
    },
    {
      "cell_type": "code",
      "execution_count": null,
      "metadata": {
        "colab": {
          "base_uri": "https://localhost:8080/"
        },
        "id": "SB850TTQCAaV",
        "outputId": "c440fd6e-6b85-443a-850c-c492e1438933"
      },
      "outputs": [
        {
          "output_type": "stream",
          "name": "stdout",
          "text": [
            "enter 1+1?3\n",
            "wrong\n",
            "0\n",
            "1\n"
          ]
        }
      ],
      "source": [
        "correct = 0\n",
        "wrong = 0\n",
        "q1 = int(input(\"enter 1+1?\"))\n",
        "if q1 == 2:\n",
        "  print(\"correct\")\n",
        "  correct += 1\n",
        "else:\n",
        "  print(\"wrong\")\n",
        "  wrong += 1\n",
        "q1 = int(input(\"enter 1+1?\"))\n",
        "if q1 == 2:\n",
        "  print(\"correct\")\n",
        "  correct += 1\n",
        "else:\n",
        "  print(\"wrong\")\n",
        "  wrong += 1\n",
        "q1 = int(input(\"enter 1+1?\"))\n",
        "if q1 == 2:\n",
        "  print(\"correct\")\n",
        "  correct += 1\n",
        "else:\n",
        "  print(\"wrong\")\n",
        "  wrong += 1\n",
        "q1 = int(input(\"enter 1+1?\"))\n",
        "if q1 == 2:\n",
        "  print(\"correct\")\n",
        "  correct += 1\n",
        "else:\n",
        "  print(\"wrong\")\n",
        "  wrong += 1\n",
        "\n",
        "\n",
        "print(correct)\n",
        "print(wrong)"
      ]
    },
    {
      "cell_type": "code",
      "source": [],
      "metadata": {
        "id": "y3Qo1xR8HLN0"
      },
      "execution_count": null,
      "outputs": []
    },
    {
      "cell_type": "code",
      "source": [
        "num = 0\n",
        "while num<10:\n",
        "  num += 1\n",
        "  print(num)"
      ],
      "metadata": {
        "id": "f4dWNGgnHP2K"
      },
      "execution_count": null,
      "outputs": []
    },
    {
      "cell_type": "code",
      "source": [
        "num = 0\n",
        "while num<10:\n",
        "  print(num)\n",
        "  num += 1"
      ],
      "metadata": {
        "colab": {
          "base_uri": "https://localhost:8080/"
        },
        "id": "JpGvp-enHo9N",
        "outputId": "119b1eb9-e056-4fc5-9c4f-0f3f937403ca"
      },
      "execution_count": null,
      "outputs": [
        {
          "output_type": "stream",
          "name": "stdout",
          "text": [
            "0\n",
            "1\n",
            "2\n",
            "3\n",
            "4\n",
            "5\n",
            "6\n",
            "7\n",
            "8\n",
            "9\n"
          ]
        }
      ]
    },
    {
      "cell_type": "code",
      "source": [
        "n = [] #empty list\n",
        "print(type(n))"
      ],
      "metadata": {
        "colab": {
          "base_uri": "https://localhost:8080/"
        },
        "id": "PR1YBsojKIOi",
        "outputId": "cb2c23ba-b9e5-4b15-b358-5fda0c01b8ce"
      },
      "execution_count": null,
      "outputs": [
        {
          "output_type": "stream",
          "name": "stdout",
          "text": [
            "<class 'list'>\n"
          ]
        }
      ]
    },
    {
      "cell_type": "code",
      "source": [
        "n1 = [\"steve\",1,7.0,True]"
      ],
      "metadata": {
        "id": "dwL9oLj4HEy4"
      },
      "execution_count": null,
      "outputs": []
    },
    {
      "cell_type": "markdown",
      "source": [
        "0     1    2    3\n",
        "steve 1.   7.0.  True"
      ],
      "metadata": {
        "id": "aBwFZdhELGNO"
      }
    },
    {
      "cell_type": "code",
      "source": [
        "print(n1)\n",
        "print(n1[0])\n",
        "print(n1[-1])\n",
        "print(n1[0:3])\n",
        "print(n1[::-1])"
      ],
      "metadata": {
        "colab": {
          "base_uri": "https://localhost:8080/"
        },
        "id": "UIPwPjRmL9rr",
        "outputId": "aefc10db-e703-4982-ff7d-bc22adb0790d"
      },
      "execution_count": null,
      "outputs": [
        {
          "output_type": "stream",
          "name": "stdout",
          "text": [
            "['steve', 1, 7.0, True]\n",
            "steve\n",
            "True\n",
            "['steve', 1, 7.0]\n",
            "[True, 7.0, 1, 'steve']\n"
          ]
        }
      ]
    },
    {
      "cell_type": "code",
      "source": [
        "names = [\"steve\",\"keshav\",\"ryansh\",\"faith\"]\n",
        "print(names)\n",
        "names.append(\"a\")\n",
        "print(names)\n",
        "names.insert(0,\"new\")\n",
        "print(names)\n",
        "names.remove(\"ryansh\")\n",
        "print(names)\n",
        "names.pop(2)\n",
        "print(names)\n",
        "names.extend([\"a\",\"b\",\"c\"])\n",
        "print(names)\n",
        "names.reverse()\n",
        "print(names)"
      ],
      "metadata": {
        "colab": {
          "base_uri": "https://localhost:8080/"
        },
        "id": "haFmI_GIMX8z",
        "outputId": "1b847f01-529a-4036-cc04-aa86ca004ee6"
      },
      "execution_count": null,
      "outputs": [
        {
          "output_type": "stream",
          "name": "stdout",
          "text": [
            "['steve', 'keshav', 'ryansh', 'faith']\n",
            "['steve', 'keshav', 'ryansh', 'faith', 'a']\n",
            "['new', 'steve', 'keshav', 'ryansh', 'faith', 'a']\n",
            "['new', 'steve', 'keshav', 'faith', 'a']\n",
            "['new', 'steve', 'faith', 'a']\n",
            "['new', 'steve', 'faith', 'a', 'a', 'b', 'c']\n",
            "['c', 'b', 'a', 'a', 'faith', 'steve', 'new']\n"
          ]
        }
      ]
    },
    {
      "cell_type": "code",
      "source": [
        "names = [\"steve\",\"keshav\",\"ryansh\",\"faith\"]\n",
        "print(len(names))\n",
        "for i in names:\n",
        "  print(i)"
      ],
      "metadata": {
        "colab": {
          "base_uri": "https://localhost:8080/"
        },
        "id": "dEgJFM5aOpgv",
        "outputId": "d0ee37c9-081b-40ea-a54d-ea2b1e512164"
      },
      "execution_count": null,
      "outputs": [
        {
          "output_type": "stream",
          "name": "stdout",
          "text": [
            "4\n",
            "steve\n",
            "keshav\n",
            "ryansh\n",
            "faith\n"
          ]
        }
      ]
    },
    {
      "cell_type": "code",
      "source": [
        "names = [\"steve\",\"keshav\",\"ryansh\",\"faith\"]\n",
        "names[2] = \"jjjjj\" #v imp\n",
        "print(names)"
      ],
      "metadata": {
        "colab": {
          "base_uri": "https://localhost:8080/"
        },
        "id": "HO_Jxx-XPZdB",
        "outputId": "45061902-df30-404a-ffc4-bfa92dab0eeb"
      },
      "execution_count": null,
      "outputs": [
        {
          "output_type": "stream",
          "name": "stdout",
          "text": [
            "['steve', 'keshav', 'jjjjj', 'faith']\n"
          ]
        }
      ]
    },
    {
      "cell_type": "code",
      "source": [
        "#tuple\n",
        "names = (1,2,\"jjk\")\n",
        "print(names)"
      ],
      "metadata": {
        "colab": {
          "base_uri": "https://localhost:8080/"
        },
        "id": "IG9xTblhO-xd",
        "outputId": "860779fd-e637-4000-d32f-db302cc5ae27"
      },
      "execution_count": null,
      "outputs": [
        {
          "output_type": "stream",
          "name": "stdout",
          "text": [
            "(1, 2, 'jjk')\n"
          ]
        }
      ]
    }
  ]
}