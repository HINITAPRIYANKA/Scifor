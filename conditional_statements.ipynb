{
  "nbformat": 4,
  "nbformat_minor": 0,
  "metadata": {
    "colab": {
      "provenance": [],
      "include_colab_link": true
    },
    "kernelspec": {
      "name": "python3",
      "display_name": "Python 3"
    },
    "language_info": {
      "name": "python"
    }
  },
  "cells": [
    {
      "cell_type": "markdown",
      "metadata": {
        "id": "view-in-github",
        "colab_type": "text"
      },
      "source": [
        "<a href=\"https://colab.research.google.com/github/HINITAPRIYANKA/Scifor/blob/main/conditional_statements.ipynb\" target=\"_parent\"><img src=\"https://colab.research.google.com/assets/colab-badge.svg\" alt=\"Open In Colab\"/></a>"
      ]
    },
    {
      "cell_type": "code",
      "execution_count": null,
      "metadata": {
        "colab": {
          "base_uri": "https://localhost:8080/"
        },
        "id": "BK0s3Oo-UHhc",
        "outputId": "f4514dc9-e281-44d5-f79a-e0b72953880f"
      },
      "outputs": [
        {
          "output_type": "stream",
          "name": "stdout",
          "text": [
            "enter number10\n",
            "positive\n"
          ]
        }
      ],
      "source": [
        "num = int(input(\"enter number\"))\n",
        "if num<0:\n",
        "  print(\"negative\")\n",
        "elif num>0:\n",
        "  print(\"positive\")\n",
        "else:\n",
        "  print(\"neutral\")"
      ]
    },
    {
      "cell_type": "code",
      "source": [
        "# <\n",
        "# >\n",
        "# <=\n",
        "# >=\n",
        "# ==\n",
        "# !="
      ],
      "metadata": {
        "id": "daJPamy-VQTl"
      },
      "execution_count": null,
      "outputs": []
    },
    {
      "cell_type": "code",
      "source": [
        "num = int(input(\"enter number\"))\n",
        "if num%2==0:\n",
        "  print(\"even\")\n",
        "else:\n",
        "  print(\"odd\")\n",
        "\n",
        "\n",
        "\n"
      ],
      "metadata": {
        "colab": {
          "base_uri": "https://localhost:8080/"
        },
        "id": "apIbk8TyVWhg",
        "outputId": "36ad2383-aaec-4311-e84d-fc5389d0aeca"
      },
      "execution_count": null,
      "outputs": [
        {
          "output_type": "stream",
          "name": "stdout",
          "text": [
            "enter number10\n",
            "even\n"
          ]
        }
      ]
    },
    {
      "cell_type": "markdown",
      "source": [
        "{\n",
        "\n",
        "}"
      ],
      "metadata": {
        "id": "ZNAkMEOPWsSq"
      }
    },
    {
      "cell_type": "code",
      "source": [
        "num1 = int(input(\"enter first num1: \"))\n",
        "num2 = int(input(\"enter first num2: \"))\n",
        "num3 = int(input(\"enter first num3: \"))\n",
        "\n",
        "if num1>num2:\n",
        "  if num1 > num3:\n",
        "    print(\"num1 is the greatest \")\n",
        "  else:\n",
        "    print(\"num3 is the greatest\")\n",
        "elif num2>num1:\n",
        "  if num2 > num3:\n",
        "    print(\"num2 is the greatest \")\n",
        "  else:\n",
        "    print(\"num3 is the greatest\")\n",
        "else:\n",
        "  print(\"all are equal\")\n",
        "\n"
      ],
      "metadata": {
        "colab": {
          "base_uri": "https://localhost:8080/"
        },
        "id": "fWj1xoQYWcYH",
        "outputId": "1a62fbad-7dad-4897-becd-e088db3cb15f"
      },
      "execution_count": null,
      "outputs": [
        {
          "output_type": "stream",
          "name": "stdout",
          "text": [
            "enter first num1: 2\n",
            "enter first num2: 2\n",
            "enter first num3: 2\n",
            "all are equal\n"
          ]
        }
      ]
    }
  ]
}