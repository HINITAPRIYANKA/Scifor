{
  "nbformat": 4,
  "nbformat_minor": 0,
  "metadata": {
    "colab": {
      "provenance": [],
      "authorship_tag": "ABX9TyNK5GyeBKkeiML80gDLg1aw",
      "include_colab_link": true
    },
    "kernelspec": {
      "name": "python3",
      "display_name": "Python 3"
    },
    "language_info": {
      "name": "python"
    }
  },
  "cells": [
    {
      "cell_type": "markdown",
      "metadata": {
        "id": "view-in-github",
        "colab_type": "text"
      },
      "source": [
        "<a href=\"https://colab.research.google.com/github/HINITAPRIYANKA/Scifor/blob/main/Assessment(Jan_8).ipynb\" target=\"_parent\"><img src=\"https://colab.research.google.com/assets/colab-badge.svg\" alt=\"Open In Colab\"/></a>"
      ]
    },
    {
      "cell_type": "markdown",
      "source": [
        "# New Section"
      ],
      "metadata": {
        "id": "i7BRZA24Lzol"
      }
    },
    {
      "cell_type": "code",
      "source": [
        "#Quiz program\n",
        "questions = [\n",
        "    \"What is the national animal of India?\\na. Cheetah\\nb. Tiger\\nc. Bison\\n\",\n",
        "    \"What is the extension of python file?\\na. .py\\nb. python\\nc. .pyp\\n\",\n",
        "    \"Who created python?\\na. Abraham merv \\nb. Dennis ritchie\\nc. Guido van rossum\\n\",\n",
        "    \"Which planet in milky way is hottest?\\na. Earth\\nb.Venus\\nc.Mercury\"\n",
        "]\n",
        "correct_answers = ['b', 'a', 'c','b']\n",
        "max_correct_answers = 4\n",
        "min_wrong_answers = 4\n",
        "correct_count = 0\n",
        "wrong_count = 0\n",
        "question_index = 0\n",
        "while correct_count < max_correct_answers and wrong_count < min_wrong_answers and question_index < len(questions):\n",
        "    user_answer = input(questions[question_index])\n",
        "    if user_answer.lower() == correct_answers[question_index]:\n",
        "        print(\"Correct!\\n\")\n",
        "        correct_count += 1\n",
        "    else:\n",
        "        print(\"Wrong!\\n\")\n",
        "        wrong_count += 1\n",
        "    question_index += 1\n",
        "print(\"Quiz Results:\")\n",
        "print(\"Correct Answers:\", correct_count)\n",
        "print(\"Wrong Answers:\", wrong_count)\n"
      ],
      "metadata": {
        "colab": {
          "base_uri": "https://localhost:8080/"
        },
        "id": "BC5PTgXEV6Nz",
        "outputId": "1a6662a6-566c-497b-e801-5e6f8095b8c2"
      },
      "execution_count": null,
      "outputs": [
        {
          "output_type": "stream",
          "name": "stdout",
          "text": [
            "What is the national animal of India?\n",
            "a. Cheetah\n",
            "b. Tiger\n",
            "c. Bison\n",
            "a\n",
            "Wrong!\n",
            "\n",
            "What is the extension of python file?\n",
            "a. .py\n",
            "b. python\n",
            "c. .pyp\n",
            "a\n",
            "Correct!\n",
            "\n",
            "Who created python?\n",
            "a. Abraham merv \n",
            "b. Dennis ritchie\n",
            "c. Guido van rossum\n",
            "a\n",
            "Wrong!\n",
            "\n",
            "Which planet in milky way is hottest?\n",
            "a. Earth\n",
            "b.Venus\n",
            "c.Mercurya\n",
            "Wrong!\n",
            "\n",
            "Quiz Results:\n",
            "Correct Answers: 1\n",
            "Wrong Answers: 3\n"
          ]
        }
      ]
    },
    {
      "cell_type": "code",
      "source": [
        "#Even number program\n",
        "print(\"Even numbers between 1 and 100 are:\")\n",
        "for num in range(1, 101):\n",
        "    if num % 2 == 0:\n",
        "        print(num)"
      ],
      "metadata": {
        "colab": {
          "base_uri": "https://localhost:8080/"
        },
        "id": "kWTZ3-GwVlDS",
        "outputId": "7d7d8311-9d46-4157-e282-4b175a9fb7b3"
      },
      "execution_count": null,
      "outputs": [
        {
          "output_type": "stream",
          "name": "stdout",
          "text": [
            "Even numbers between 1 and 100 are:\n",
            "2\n",
            "4\n",
            "6\n",
            "8\n",
            "10\n",
            "12\n",
            "14\n",
            "16\n",
            "18\n",
            "20\n",
            "22\n",
            "24\n",
            "26\n",
            "28\n",
            "30\n",
            "32\n",
            "34\n",
            "36\n",
            "38\n",
            "40\n",
            "42\n",
            "44\n",
            "46\n",
            "48\n",
            "50\n",
            "52\n",
            "54\n",
            "56\n",
            "58\n",
            "60\n",
            "62\n",
            "64\n",
            "66\n",
            "68\n",
            "70\n",
            "72\n",
            "74\n",
            "76\n",
            "78\n",
            "80\n",
            "82\n",
            "84\n",
            "86\n",
            "88\n",
            "90\n",
            "92\n",
            "94\n",
            "96\n",
            "98\n",
            "100\n"
          ]
        }
      ]
    },
    {
      "cell_type": "code",
      "source": [
        "#Prime number program\n",
        "start = int(input(\"Enter the start of the range: \"))\n",
        "end = int(input(\"Enter the end of the range: \"))\n",
        "\n",
        "print(\"Prime numbers between\", start, \"and\", end, \"are:\")\n",
        "for num in range(start, end + 1):\n",
        "    if num > 1:\n",
        "        for i in range(2, num):\n",
        "            if (num % i) == 0:\n",
        "                break\n",
        "        else:\n",
        "            print(num)"
      ],
      "metadata": {
        "colab": {
          "base_uri": "https://localhost:8080/"
        },
        "id": "C4yIKRtVVRpc",
        "outputId": "e32cb9fd-520f-4dff-8eab-908175f6e8c5"
      },
      "execution_count": null,
      "outputs": [
        {
          "output_type": "stream",
          "name": "stdout",
          "text": [
            "Enter the start of the range: 1\n",
            "Enter the end of the range: 20\n",
            "Prime numbers between 1 and 20 are:\n",
            "2\n",
            "3\n",
            "5\n",
            "7\n",
            "11\n",
            "13\n",
            "17\n",
            "19\n"
          ]
        }
      ]
    }
  ]
}