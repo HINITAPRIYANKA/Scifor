{
  "nbformat": 4,
  "nbformat_minor": 0,
  "metadata": {
    "colab": {
      "provenance": [],
      "authorship_tag": "ABX9TyPdWl/Jd+9a6WJBVb9TtR4V",
      "include_colab_link": true
    },
    "kernelspec": {
      "name": "python3",
      "display_name": "Python 3"
    },
    "language_info": {
      "name": "python"
    }
  },
  "cells": [
    {
      "cell_type": "markdown",
      "metadata": {
        "id": "view-in-github",
        "colab_type": "text"
      },
      "source": [
        "<a href=\"https://colab.research.google.com/github/HINITAPRIYANKA/Scifor/blob/main/18_01_2024_Assignment_Hinitapriyanka.ipynb\" target=\"_parent\"><img src=\"https://colab.research.google.com/assets/colab-badge.svg\" alt=\"Open In Colab\"/></a>"
      ]
    },
    {
      "cell_type": "code",
      "execution_count": null,
      "metadata": {
        "colab": {
          "base_uri": "https://localhost:8080/"
        },
        "id": "gEflLizcjN_m",
        "outputId": "09a1ba70-27ab-4ed4-c07c-ec39c3098590"
      },
      "outputs": [
        {
          "output_type": "stream",
          "name": "stdout",
          "text": [
            "Welcome to the Guess the Number Game!\n",
            "I have picked a random number between 1 and 100.\n",
            "You have 10 chances to guess the correct number.\n",
            "\n",
            "Attempt 1: Enter your guess: 9\n",
            "Congratulations! You guessed the correct number (9)! You win!\n"
          ]
        }
      ],
      "source": [
        "import random\n",
        "def guess_the_number():\n",
        "    min_range = 1\n",
        "    max_range = 100\n",
        "    target_number = random.randint(min_range, max_range)\n",
        "    print(f\"Welcome to the Guess the Number Game!\")\n",
        "    print(f\"I have picked a random number between {min_range} and {max_range}.\")\n",
        "    print(f\"You have 10 chances to guess the correct number.\")\n",
        "    for attempt in range(1, 11):\n",
        "        user_guess = int(input(f\"\\nAttempt {attempt}: Enter your guess: \"))\n",
        "        if user_guess == target_number:\n",
        "            print(f\"Congratulations! You guessed the correct number ({target_number})! You win!\")\n",
        "            break\n",
        "        else:\n",
        "            if user_guess < target_number:\n",
        "                print(\"Too low! Try again.\")\n",
        "            else:\n",
        "                print(\"Too high! Try again.\")\n",
        "\n",
        "    else:\n",
        "\n",
        "        print(f\"\\nSorry, you've run out of attempts. The correct number was {target_number}. You lose.\")\n",
        "\n",
        "guess_the_number()\n"
      ]
    },
    {
      "cell_type": "code",
      "source": [
        "def adventure_game():\n",
        "    print(\"Welcome to the Adventure Game, Luke!\")\n",
        "    print(\"You are standing outside of your house and you see a man running towards you.\")\n",
        "    decision1 = input(\"Will you provide shelter to him? (Yes / No): \")\n",
        "\n",
        "    if decision1.lower() == \"yes\":\n",
        "        print(\"\\nAfter 2 minutes, the Police came to your house and ask you whether the thief was in your house or not.\")\n",
        "        decision2 = input(\"Will you say (Yes / No): \")\n",
        "\n",
        "        if decision2.lower() == \"yes\":\n",
        "            print(\"\\nYou are an honest person. He was a thief & You won the Game!\")\n",
        "        elif decision2.lower() == \"no\":\n",
        "            print(\"\\nYou helped a thief. Game Over!\")\n",
        "        else:\n",
        "            print(\"\\nInvalid input. Please enter 'Yes' or 'No'. Game Over!\")\n",
        "\n",
        "    elif decision1.lower() == \"no\":\n",
        "        print(\"\\nYou chose not to provide shelter. The man continues running. Game Over!\")\n",
        "\n",
        "    else:\n",
        "        print(\"\\nInvalid input. Please enter 'Yes' or 'No'. Game Over!\")\n",
        "\n",
        "adventure_game()\n"
      ],
      "metadata": {
        "colab": {
          "base_uri": "https://localhost:8080/"
        },
        "id": "S69QMBsBkDYa",
        "outputId": "b76a0d94-bb63-4833-b220-16adf28a187e"
      },
      "execution_count": null,
      "outputs": [
        {
          "output_type": "stream",
          "name": "stdout",
          "text": [
            "Welcome to the Adventure Game, Luke!\n",
            "You are standing outside of your house and you see a man running towards you.\n",
            "Will you provide shelter to him? (Yes / No): Yes\n",
            "\n",
            "After 2 minutes, the Police came to your house and ask you whether the thief was in your house or not.\n",
            "Will you say (Yes / No): No\n",
            "\n",
            "You helped a thief. Game Over!\n"
          ]
        }
      ]
    },
    {
      "cell_type": "code",
      "source": [
        "import random\n",
        "\n",
        "def jumbled_words_game():\n",
        "    words = ['school', 'books', 'friends', 'maths', 'parents', 'zoology', 'games', 'television', 'space', 'rocket', 'chemistry', 'house', 'studies', 'project']\n",
        "    original_word = random.choice(words)\n",
        "    shuffled_word = list(original_word)\n",
        "    random.shuffle(shuffled_word)\n",
        "    shuffled_word = ''.join(shuffled_word)\n",
        "    print(f\"Jumbled Word: {shuffled_word}\")\n",
        "\n",
        "    # Initialize score\n",
        "    score = 0\n",
        "\n",
        "    while True:\n",
        "        user_guess = input(\"Enter your guess (or type 'quit' to end the game): \").lower()\n",
        "        if user_guess == 'quit':\n",
        "            print(f\"Thanks for playing! Your final score is {score}.\")\n",
        "            break\n",
        "        elif user_guess == original_word:\n",
        "            print(\"Congratulations! You guessed the correct word. You earn 1 point!\")\n",
        "            score += 1\n",
        "            original_word = random.choice(words)\n",
        "            shuffled_word = list(original_word)\n",
        "            random.shuffle(shuffled_word)\n",
        "            shuffled_word = ''.join(shuffled_word)\n",
        "            print(f\"\\nJumbled Word: {shuffled_word}\")\n",
        "        else:\n",
        "            print(\"Sorry, your guess is incorrect. Try again.\")\n",
        "jumbled_words_game()\n"
      ],
      "metadata": {
        "colab": {
          "base_uri": "https://localhost:8080/"
        },
        "id": "0ZK1gTVGlLuj",
        "outputId": "c8e8019f-e172-4ab2-9324-792f53b2752e"
      },
      "execution_count": null,
      "outputs": [
        {
          "output_type": "stream",
          "name": "stdout",
          "text": [
            "Jumbled Word: okobs\n",
            "Enter your guess (or type 'quit' to end the game): students\n",
            "Sorry, your guess is incorrect. Try again.\n",
            "Enter your guess (or type 'quit' to end the game): books\n",
            "Congratulations! You guessed the correct word. You earn 1 point!\n",
            "\n",
            "Jumbled Word: sieutds\n",
            "Enter your guess (or type 'quit' to end the game): studies\n",
            "Congratulations! You guessed the correct word. You earn 1 point!\n",
            "\n",
            "Jumbled Word: coohls\n",
            "Enter your guess (or type 'quit' to end the game): school\n",
            "Congratulations! You guessed the correct word. You earn 1 point!\n",
            "\n",
            "Jumbled Word: pasrnet\n",
            "Enter your guess (or type 'quit' to end the game): parents\n",
            "Congratulations! You guessed the correct word. You earn 1 point!\n",
            "\n",
            "Jumbled Word: egasm\n",
            "Enter your guess (or type 'quit' to end the game): games\n",
            "Congratulations! You guessed the correct word. You earn 1 point!\n",
            "\n",
            "Jumbled Word: olozyog\n",
            "Enter your guess (or type 'quit' to end the game): zoology\n",
            "Congratulations! You guessed the correct word. You earn 1 point!\n",
            "\n",
            "Jumbled Word: strnaep\n",
            "Enter your guess (or type 'quit' to end the game): quit\n",
            "Thanks for playing! Your final score is 6.\n"
          ]
        }
      ]
    }
  ]
}