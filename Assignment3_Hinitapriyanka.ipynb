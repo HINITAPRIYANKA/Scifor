{
  "nbformat": 4,
  "nbformat_minor": 0,
  "metadata": {
    "colab": {
      "provenance": [],
      "authorship_tag": "ABX9TyPjcpCRZSQf9/5C0KoqHzP+",
      "include_colab_link": true
    },
    "kernelspec": {
      "name": "python3",
      "display_name": "Python 3"
    },
    "language_info": {
      "name": "python"
    }
  },
  "cells": [
    {
      "cell_type": "markdown",
      "metadata": {
        "id": "view-in-github",
        "colab_type": "text"
      },
      "source": [
        "<a href=\"https://colab.research.google.com/github/HINITAPRIYANKA/Scifor/blob/main/Assignment3_Hinitapriyanka.ipynb\" target=\"_parent\"><img src=\"https://colab.research.google.com/assets/colab-badge.svg\" alt=\"Open In Colab\"/></a>"
      ]
    },
    {
      "cell_type": "code",
      "execution_count": null,
      "metadata": {
        "colab": {
          "base_uri": "https://localhost:8080/"
        },
        "id": "lTQmEl6eqpgm",
        "outputId": "d63277c9-e60e-48b4-db6d-527a0aec406a"
      },
      "outputs": [
        {
          "output_type": "stream",
          "name": "stdout",
          "text": [
            "Enter the pet name: hannah\n",
            "true\n"
          ]
        }
      ],
      "source": [
        "#palindrome_petname\n",
        "pet_name = input(\"Enter the pet name: \")\n",
        "New_pet_name = pet_name.replace(\" \", \"\").lower()\n",
        "if New_pet_name == New_pet_name[::-1]:\n",
        "    print(\"true\")\n",
        "else:\n",
        "    print(\"false\")\n"
      ]
    },
    {
      "cell_type": "code",
      "source": [
        "#secret_language\n",
        "word = input(\"Enter a word: \")\n",
        "secret_language = word[1::2] + word[0::2]\n",
        "print(\"Secret Language:\", secret_language)\n",
        "secret_language_input = input(\"Enter the secret language: \")\n",
        "normal_language = word\n",
        "print(\"Normal Language:\", word)\n"
      ],
      "metadata": {
        "colab": {
          "base_uri": "https://localhost:8080/"
        },
        "id": "oxyclhkorLvm",
        "outputId": "29b72f1b-b346-4dd4-99fb-3bfb30c5ddc1"
      },
      "execution_count": null,
      "outputs": [
        {
          "output_type": "stream",
          "name": "stdout",
          "text": [
            "Enter a word: look \n",
            "Secret Language: oklo \n",
            "Enter the secret language: oklo\n",
            "Normal Language: look \n"
          ]
        }
      ]
    },
    {
      "cell_type": "code",
      "source": [
        "#phone number is valid or not\n",
        "phone_number = input(\"Enter the phone number: \")\n",
        "if len(phone_number) == 10 and phone_number[0] in ['9', '8', '7'] and phone_number.isnumeric():\n",
        "    print(\"Valid phone number\")\n",
        "else:\n",
        "    print(\"Invalid phone number\")\n"
      ],
      "metadata": {
        "colab": {
          "base_uri": "https://localhost:8080/"
        },
        "id": "YujKD3DGsjEO",
        "outputId": "fe937b77-3342-4c12-c4f8-51ae368d058d"
      },
      "execution_count": null,
      "outputs": [
        {
          "output_type": "stream",
          "name": "stdout",
          "text": [
            "Enter the phone number: 9678523451\n",
            "Valid phone number\n"
          ]
        }
      ]
    }
  ]
}