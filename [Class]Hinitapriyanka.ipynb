{
  "nbformat": 4,
  "nbformat_minor": 0,
  "metadata": {
    "colab": {
      "provenance": [],
      "authorship_tag": "ABX9TyMxiwuk65HY0xKQufRHuEaM",
      "include_colab_link": true
    },
    "kernelspec": {
      "name": "python3",
      "display_name": "Python 3"
    },
    "language_info": {
      "name": "python"
    }
  },
  "cells": [
    {
      "cell_type": "markdown",
      "metadata": {
        "id": "view-in-github",
        "colab_type": "text"
      },
      "source": [
        "<a href=\"https://colab.research.google.com/github/HINITAPRIYANKA/Scifor/blob/main/%5BClass%5DHinitapriyanka.ipynb\" target=\"_parent\"><img src=\"https://colab.research.google.com/assets/colab-badge.svg\" alt=\"Open In Colab\"/></a>"
      ]
    },
    {
      "cell_type": "markdown",
      "source": [
        "1. Create a class Bird, and define actions (statements) for different birds,\n",
        "execute them according to the objects created (inputs given) and inherit the\n",
        "properties of Animal class"
      ],
      "metadata": {
        "id": "DsBIsEx-GJrf"
      }
    },
    {
      "cell_type": "code",
      "source": [
        "class Animal:\n",
        "    def __init__(self, name):\n",
        "        self.name = name\n",
        "\n",
        "    def speak(self):\n",
        "        print(f\"{self.name} makes a generic animal sound.\")\n",
        "\n",
        "class Bird(Animal):\n",
        "    def __init__(self, name, species):\n",
        "        super().__init__(name)\n",
        "        self.species = species\n",
        "\n",
        "    def fly(self):\n",
        "        print(f\"{self.name}, a {self.species}, is flying.\")\n",
        "\n",
        "    def perform_action(self):\n",
        "        print(f\"{self.name} is performing a bird-specific action.\")\n",
        "\n",
        "class no_init_class(Animal):\n",
        "    def perform_action(self):\n",
        "        print(f\"{self.name} is performing a generic action.\")\n",
        "\n",
        "bird1 = Bird(\"Sparrow\", \"House Sparrow\")\n",
        "bird2 = Bird(\"Eagle\", \"Bald Eagle\")\n",
        "generic_animal = no_init_class(\"Dog\")\n",
        "\n",
        "bird1.speak()\n",
        "bird1.fly()\n",
        "bird1.perform_action()\n",
        "\n",
        "bird2.speak()\n",
        "bird2.fly()\n",
        "bird2.perform_action()\n",
        "\n",
        "generic_animal.speak()\n",
        "generic_animal.perform_action()\n"
      ],
      "metadata": {
        "colab": {
          "base_uri": "https://localhost:8080/"
        },
        "id": "Cj5qMIYtGNbG",
        "outputId": "e094b7fd-a425-482f-e06a-d7a5af3cf447"
      },
      "execution_count": null,
      "outputs": [
        {
          "output_type": "stream",
          "name": "stdout",
          "text": [
            "Sparrow makes a generic animal sound.\n",
            "Sparrow, a House Sparrow, is flying.\n",
            "Sparrow is performing a bird-specific action.\n",
            "Eagle makes a generic animal sound.\n",
            "Eagle, a Bald Eagle, is flying.\n",
            "Eagle is performing a bird-specific action.\n",
            "Dog makes a generic animal sound.\n",
            "Dog is performing a generic action.\n"
          ]
        }
      ]
    },
    {
      "cell_type": "markdown",
      "source": [
        "2. Create class Employee, Department and Post(Manager,Clerk etc) and try and\n",
        "establish a relationship between them (using super() function)"
      ],
      "metadata": {
        "id": "isBMPGw6IsAy"
      }
    },
    {
      "cell_type": "code",
      "source": [
        "class Employee:\n",
        "    def __init__(self, name, employee_id):\n",
        "        self.name = name\n",
        "        self.employee_id = employee_id\n",
        "\n",
        "    def display_info(self):\n",
        "        print(f\"Employee ID: {self.employee_id}, Name: {self.name}\")\n",
        "\n",
        "\n",
        "class Department(Employee):\n",
        "    def __init__(self, name, employee_id, department_name):\n",
        "        super().__init__(name, employee_id)\n",
        "        self.department_name = department_name\n",
        "\n",
        "    def display_info(self):\n",
        "        super().display_info()\n",
        "        print(f\"Department: {self.department_name}\")\n",
        "\n",
        "\n",
        "class Post(Department):\n",
        "    def __init__(self, name, employee_id, department_name, job_post):\n",
        "        super().__init__(name, employee_id, department_name)\n",
        "        self.job_post = job_post\n",
        "\n",
        "    def display_info(self):\n",
        "        super().display_info()\n",
        "        print(f\"Job Post: {self.job_post}\")\n",
        "\n",
        "\n",
        "# Creating objects and calling methods\n",
        "employee1 = Employee(\"John Doe\", 1001)\n",
        "employee1.display_info()\n",
        "\n",
        "department_head = Department(\"Alice Smith\", 2001, \"Human Resources\")\n",
        "department_head.display_info()\n",
        "\n",
        "manager = Post(\"Bob Johnson\", 3001, \"Marketing\", \"Marketing Manager\")\n",
        "manager.display_info()\n"
      ],
      "metadata": {
        "colab": {
          "base_uri": "https://localhost:8080/"
        },
        "id": "uGvWEFCAIt4l",
        "outputId": "25d68632-ed65-4fb7-9989-1d0774dcdcbc"
      },
      "execution_count": null,
      "outputs": [
        {
          "output_type": "stream",
          "name": "stdout",
          "text": [
            "Employee ID: 1001, Name: John Doe\n",
            "Employee ID: 2001, Name: Alice Smith\n",
            "Department: Human Resources\n",
            "Employee ID: 3001, Name: Bob Johnson\n",
            "Department: Marketing\n",
            "Job Post: Marketing Manager\n"
          ]
        }
      ]
    }
  ]
}