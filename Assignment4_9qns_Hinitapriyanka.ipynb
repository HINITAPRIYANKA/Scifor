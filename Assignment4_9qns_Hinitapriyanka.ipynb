{
  "nbformat": 4,
  "nbformat_minor": 0,
  "metadata": {
    "colab": {
      "provenance": [],
      "authorship_tag": "ABX9TyOhVY8M5l0JaFdJsjwQQbTo",
      "include_colab_link": true
    },
    "kernelspec": {
      "name": "python3",
      "display_name": "Python 3"
    },
    "language_info": {
      "name": "python"
    }
  },
  "cells": [
    {
      "cell_type": "markdown",
      "metadata": {
        "id": "view-in-github",
        "colab_type": "text"
      },
      "source": [
        "<a href=\"https://colab.research.google.com/github/HINITAPRIYANKA/Scifor/blob/main/Assignment4_9qns_Hinitapriyanka.ipynb\" target=\"_parent\"><img src=\"https://colab.research.google.com/assets/colab-badge.svg\" alt=\"Open In Colab\"/></a>"
      ]
    },
    {
      "cell_type": "code",
      "execution_count": null,
      "metadata": {
        "colab": {
          "base_uri": "https://localhost:8080/"
        },
        "id": "E2gVXrZicp-I",
        "outputId": "27a0a512-a73c-45c1-bbb7-ba1a2b809fd7"
      },
      "outputs": [
        {
          "output_type": "stream",
          "name": "stdout",
          "text": [
            "Enter the number of favorable outcomes: 3\n",
            "Enter the total number of possible outcomes: 5\n",
            "Probability: 0.6\n"
          ]
        }
      ],
      "source": [
        "# 1.program of probability\n",
        "favorable_outcomes = int(input(\"Enter the number of favorable outcomes: \"))\n",
        "total_outcomes = int(input(\"Enter the total number of possible outcomes: \"))\n",
        "probability = favorable_outcomes / total_outcomes\n",
        "rounded_probability = round(probability, 2)\n",
        "print(f\"Probability: {rounded_probability}\")"
      ]
    },
    {
      "cell_type": "code",
      "source": [
        "# 2.program of calculating age\n",
        "user_age = int(input(\"Enter your age: \"))\n",
        "if user_age >= 18:\n",
        "    print(\"You are eligible to proceed with the registration.\")\n",
        "else:\n",
        "    print(\"Sorry, you are not eligible as the minimum age requirement is 18.\")\n"
      ],
      "metadata": {
        "colab": {
          "base_uri": "https://localhost:8080/"
        },
        "id": "24Qd8r4mc3sm",
        "outputId": "a2f80db4-b30b-4498-a60d-b2bd450d7c3e"
      },
      "execution_count": null,
      "outputs": [
        {
          "output_type": "stream",
          "name": "stdout",
          "text": [
            "Enter your age: 21\n",
            "You are eligible to proceed with the registration.\n"
          ]
        }
      ]
    },
    {
      "cell_type": "code",
      "source": [
        "# 3.program of chatbot\n",
        "username = input(\"What's your name? \")\n",
        "print(f\"Hi, My name is Jenni, a smart chatbot. A Very Good Day To You {username}!!\")\n",
        "user_feeling = input(\"How are you feeling today? \")\n",
        "if \"good\" in user_feeling.lower():\n",
        "    print(\"It's really a productive day to do something innovative, and you are close to it.\")\n",
        "else:\n",
        "    print(\"Don't worry!! You got this, {username}! Buckle up and cheer yourself up. Good days are on their way.\")"
      ],
      "metadata": {
        "colab": {
          "base_uri": "https://localhost:8080/"
        },
        "id": "86b5qKjadI6S",
        "outputId": "373930f9-463f-4a73-a4f7-dcb66bdbd7c5"
      },
      "execution_count": null,
      "outputs": [
        {
          "output_type": "stream",
          "name": "stdout",
          "text": [
            "What's your name? Hini\n",
            "Hi, My name is Jenni, a smart chatbot. A Very Good Day To You Hini!!\n",
            "How are you feeling today? Good\n",
            "It's really a productive day to do something innovative, and you are close to it.\n"
          ]
        }
      ]
    },
    {
      "cell_type": "code",
      "source": [
        "#4. program of ATM machine code\n",
        "bank_balance = 50000\n",
        "print(\"ATM Options:\")\n",
        "print(\"1) Withdraw\")\n",
        "print(\"2) Deposit Cash\")\n",
        "print(\"3) Balance Enquiry\")\n",
        "print(\"4) Fast Cash\")\n",
        "option = int(input(\"Enter your choice (1-4): \"))\n",
        "if option == 1:\n",
        "    withdraw_amount = int(input(\"Enter the amount to withdraw (multiples of 100): \"))\n",
        "    if withdraw_amount % 100 == 0 and withdraw_amount <= bank_balance:\n",
        "        bank_balance -= withdraw_amount\n",
        "        print(f\"Withdrawal successful! Remaining balance: {bank_balance}\")\n",
        "    else:\n",
        "        print(\"Invalid amount or insufficient funds.\")\n",
        "elif option == 2:\n",
        "    deposit_amount = int(input(\"Enter the amount to deposit: \"))\n",
        "    bank_balance += deposit_amount\n",
        "    print(f\"Deposit successful! Updated balance: {bank_balance}\")\n",
        "elif option == 3:\n",
        "    print(f\"Account Balance: {bank_balance}\")\n",
        "elif option == 4:\n",
        "    print(\"Fast Cash Options:\")\n",
        "    fast_cash_options = [5000, 10000, 15000, 20000, 25000, 30000, 40000, 45000, 50000]\n",
        "    for index, amount in enumerate(fast_cash_options, start=1):\n",
        "        print(f\"{index}) {amount}\")\n",
        "    selection = int(input(\"Select an option (1-9): \"))\n",
        "    if 1 <= selection <= 9:\n",
        "        fast_cash_amount = fast_cash_options[selection - 1]\n",
        "        if fast_cash_amount <= bank_balance:\n",
        "            bank_balance -= fast_cash_amount\n",
        "            print(f\"Withdrew {fast_cash_amount} using Fast Cash. Remaining balance: {bank_balance}\")\n",
        "        else:\n",
        "            print(\"Insufficient funds.\")\n",
        "    else:\n",
        "        print(\"Invalid option.\")\n",
        "else:\n",
        "    print(\"Invalid choice. Please select a valid option.\")"
      ],
      "metadata": {
        "colab": {
          "base_uri": "https://localhost:8080/"
        },
        "id": "FE95Aut7dlT1",
        "outputId": "3e94eaa1-e291-42eb-d20d-38a5ced82147"
      },
      "execution_count": null,
      "outputs": [
        {
          "output_type": "stream",
          "name": "stdout",
          "text": [
            "ATM Options:\n",
            "1) Withdraw\n",
            "2) Deposit Cash\n",
            "3) Balance Enquiry\n",
            "4) Fast Cash\n",
            "Enter your choice (1-4): 2\n",
            "Enter the amount to deposit: 2000\n",
            "Deposit successful! Updated balance: 52000\n"
          ]
        }
      ]
    },
    {
      "cell_type": "code",
      "source": [
        "#5. program of colour\n",
        "colors = ['red', 'blue', 'green', 'yellow', 'purple', 'red','orange']\n",
        "for color in colors:\n",
        "    if color == 'red':\n",
        "        pass\n",
        "    else:\n",
        "     print(color)"
      ],
      "metadata": {
        "colab": {
          "base_uri": "https://localhost:8080/"
        },
        "id": "rKNWcLsEeJkM",
        "outputId": "9501c059-2a99-4b34-a1b7-94c8593a5b5c"
      },
      "execution_count": null,
      "outputs": [
        {
          "output_type": "stream",
          "name": "stdout",
          "text": [
            "blue\n",
            "green\n",
            "yellow\n",
            "purple\n",
            "orange\n"
          ]
        }
      ]
    },
    {
      "cell_type": "code",
      "source": [
        "# 6.program of calculating difference\n",
        "def calculate_simple_interest(principal, rate, time):\n",
        "    return principal * rate * time / 100\n",
        "def calculate_compound_interest(principal, rate, time):\n",
        "    return principal * (1 + rate / 100)**time - principal\n",
        "principal_amount = 20000\n",
        "interest_rate = 5\n",
        "time_period = 25\n",
        "yash_simple_interest = calculate_simple_interest(principal_amount, interest_rate, time_period)\n",
        "vishal_compound_interest = calculate_compound_interest(principal_amount, interest_rate, time_period)\n",
        "difference_in_returns = vishal_compound_interest - yash_simple_interest\n",
        "difference_in_one_year = (vishal_compound_interest - yash_simple_interest) / time_period\n",
        "\n",
        "print(f\"Difference in returns after 30 years: {difference_in_returns:.2f}\")\n",
        "print(f\"Difference in returns in one year: {difference_in_one_year:.2f}\")"
      ],
      "metadata": {
        "colab": {
          "base_uri": "https://localhost:8080/"
        },
        "id": "6R7R6XDAedDn",
        "outputId": "2c181e46-817f-458a-d68c-9be880f62458"
      },
      "execution_count": null,
      "outputs": [
        {
          "output_type": "stream",
          "name": "stdout",
          "text": [
            "Difference in returns after 30 years: 22727.10\n",
            "Difference in returns in one year: 909.08\n"
          ]
        }
      ]
    },
    {
      "cell_type": "code",
      "source": [
        "# 7.program of to calculate tax\n",
        "def calculate_tax(annual_income):\n",
        "    if annual_income <= 80000:\n",
        "        tax = 0.05 * annual_income\n",
        "    elif 80000 < annual_income <= 200000:\n",
        "        tax = 0.1 * annual_income\n",
        "    elif 200000 < annual_income <= 150000:\n",
        "        tax = 0.15 * annual_income\n",
        "    else:\n",
        "        tax = 0.2 * annual_income\n",
        "\n",
        "    return tax\n",
        "annual_income = float(input(\"Enter your annual income: \"))\n",
        "tax_to_be_paid = calculate_tax(annual_income)\n",
        "print(f\"The tax to be paid based on an annual income of {annual_income:.2f} is: {tax_to_be_paid:.2f}\")"
      ],
      "metadata": {
        "colab": {
          "base_uri": "https://localhost:8080/"
        },
        "id": "ut2X95GHfRwc",
        "outputId": "a8d9eb84-ef06-4dd2-cdf8-ccb2ccec56eb"
      },
      "execution_count": null,
      "outputs": [
        {
          "output_type": "stream",
          "name": "stdout",
          "text": [
            "Enter your annual income: 58900\n",
            "The tax to be paid based on an annual income of 58900.00 is: 2945.00\n"
          ]
        }
      ]
    },
    {
      "cell_type": "code",
      "source": [
        "# 8.program to calculate BMI report\n",
        "def calculate_bmi(weight, height):\n",
        "    height_in_meters = height / 100\n",
        "    bmi = weight / (height_in_meters ** 2)\n",
        "    return bmi\n",
        "height = float(input(\"Enter your height in centimeters: \"))\n",
        "weight = float(input(\"Enter your weight in kilograms: \"))\n",
        "bmi = calculate_bmi(weight, height)\n",
        "if 18.5 <= bmi <= 24.9:\n",
        "    category = \"Healthy weight\"\n",
        "elif bmi >= 25.0:\n",
        "    category = \"Overweight\"\n",
        "else:\n",
        "    category = \"Underweight\"\n",
        "print(f\"Your BMI is: {bmi:.2f}\")\n",
        "print(f\"You are in the category of: {category}\")"
      ],
      "metadata": {
        "colab": {
          "base_uri": "https://localhost:8080/"
        },
        "id": "R3YbIF9gfr7I",
        "outputId": "c305531c-b648-4ab9-f8b7-0a83c1afaf78"
      },
      "execution_count": null,
      "outputs": [
        {
          "output_type": "stream",
          "name": "stdout",
          "text": [
            "Enter your height in centimeters: 153\n",
            "Enter your weight in kilograms: 58\n",
            "Your BMI is: 24.78\n",
            "You are in the category of: Healthy weight\n"
          ]
        }
      ]
    },
    {
      "cell_type": "code",
      "source": [
        "# 9.program of leap year\n",
        "year = int(input(\"Enter a year: \"))\n",
        "if (year % 4 == 0 and year % 100 != 0) or (year % 400 == 0):\n",
        "    print(f\"{year} is a leap year.\")\n",
        "else:\n",
        "    print(f\"{year} is not a leap year.\")"
      ],
      "metadata": {
        "colab": {
          "base_uri": "https://localhost:8080/"
        },
        "id": "Eu1WXoEDgJh0",
        "outputId": "2877921e-549b-444c-9f6f-e2ebb42946cf"
      },
      "execution_count": null,
      "outputs": [
        {
          "output_type": "stream",
          "name": "stdout",
          "text": [
            "Enter a year: 2024\n",
            "2024 is a leap year.\n"
          ]
        }
      ]
    }
  ]
}