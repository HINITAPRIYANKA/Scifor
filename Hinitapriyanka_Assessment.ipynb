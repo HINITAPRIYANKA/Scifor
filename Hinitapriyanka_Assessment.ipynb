{
  "nbformat": 4,
  "nbformat_minor": 0,
  "metadata": {
    "colab": {
      "provenance": [],
      "authorship_tag": "ABX9TyOuVRDjfvXC1+5fEbiOXG2g",
      "include_colab_link": true
    },
    "kernelspec": {
      "name": "python3",
      "display_name": "Python 3"
    },
    "language_info": {
      "name": "python"
    }
  },
  "cells": [
    {
      "cell_type": "markdown",
      "metadata": {
        "id": "view-in-github",
        "colab_type": "text"
      },
      "source": [
        "<a href=\"https://colab.research.google.com/github/HINITAPRIYANKA/Scifor/blob/main/Hinitapriyanka_Assessment.ipynb\" target=\"_parent\"><img src=\"https://colab.research.google.com/assets/colab-badge.svg\" alt=\"Open In Colab\"/></a>"
      ]
    },
    {
      "cell_type": "markdown",
      "source": [
        "create  a json and do get the data and use all the methods on it"
      ],
      "metadata": {
        "id": "8zrgdZV4BpiZ"
      }
    },
    {
      "cell_type": "code",
      "execution_count": null,
      "metadata": {
        "id": "49XbuhGf9nI_"
      },
      "outputs": [],
      "source": [
        "import json"
      ]
    },
    {
      "cell_type": "code",
      "source": [
        "data = {\n",
        "    \"name\": \"Hini\",\n",
        "    \"age\": 22,\n",
        "    \"city\": \"Chennai\",\n",
        "    \"skills\": [\"Python\", \"JavaScript\", \"SQL\"],\n",
        "    \"is_student\": False,\n",
        "    \"address\": {\n",
        "        \"street\": \"123 Main St\",\n",
        "        \"zipcode\": \"10001\"\n",
        "    }\n",
        "}\n",
        "\n",
        "with open(\"data.json\", \"w\") as json_file:\n",
        "    json.dump(data, json_file)\n",
        "\n",
        "with open(\"data.json\", \"r\") as json_file:\n",
        "    loaded_data = json.load(json_file)\n",
        "\n",
        "print(\"Name:\", loaded_data[\"name\"])\n",
        "print(\"Age:\", loaded_data[\"age\"])\n",
        "print(\"City:\", loaded_data[\"city\"])\n",
        "print(\"Skills:\", \", \".join(loaded_data[\"skills\"]))\n",
        "print(\"Is Student:\", \"Yes\" if loaded_data[\"is_student\"] else \"No\")\n",
        "print(\"Street:\", loaded_data[\"address\"][\"street\"])\n",
        "print(\"Zipcode:\", loaded_data[\"address\"][\"zipcode\"])\n",
        "\n",
        "\n",
        "loaded_data[\"age\"] = 25\n",
        "loaded_data[\"skills\"].append(\"Java\")\n",
        "loaded_data[\"is_student\"] = True\n",
        "\n",
        "\n",
        "with open(\"data.json\", \"w\") as json_file:\n",
        "    json.dump(loaded_data, json_file)\n",
        "\n",
        "\n",
        "with open(\"data.json\", \"r\") as json_file:\n",
        "    modified_data = json.load(json_file)\n",
        "\n",
        "print(\"\\nModified Data:\")\n",
        "print(\"Name:\", modified_data[\"name\"])\n",
        "print(\"Age:\", modified_data[\"age\"])\n",
        "print(\"Skills:\", \", \".join(modified_data[\"skills\"]))\n",
        "print(\"Is Student:\", \"Yes\" if modified_data[\"is_student\"] else \"No\")\n"
      ],
      "metadata": {
        "colab": {
          "base_uri": "https://localhost:8080/"
        },
        "id": "4o8CJcTIBmXw",
        "outputId": "f2df2f56-5e8b-480e-9103-0c17a2f38387"
      },
      "execution_count": null,
      "outputs": [
        {
          "output_type": "stream",
          "name": "stdout",
          "text": [
            "Name: Hini\n",
            "Age: 22\n",
            "City: Chennai\n",
            "Skills: Python, JavaScript, SQL\n",
            "Is Student: No\n",
            "Street: 123 Main St\n",
            "Zipcode: 10001\n",
            "\n",
            "Modified Data:\n",
            "Name: Hini\n",
            "Age: 25\n",
            "Skills: Python, JavaScript, SQL, Java\n",
            "Is Student: Yes\n"
          ]
        }
      ]
    },
    {
      "cell_type": "markdown",
      "source": [
        " create a file and then give me a total number of lines ,words,letters and how many lines are getting started with a particular letter,using file handling\n"
      ],
      "metadata": {
        "id": "280hVL7SPVyU"
      }
    },
    {
      "cell_type": "code",
      "source": [
        "filename = \"Example.txt\"\n",
        "\n",
        "try:\n",
        "    with open(filename, 'r') as file:\n",
        "        lines = file.readlines()\n",
        "        total_lines = len(lines)\n",
        "        total_words = 0\n",
        "        total_letters = 0\n",
        "        lines_starting_with_T = 0\n",
        "\n",
        "        for line in lines:\n",
        "            total_words += len(line.split())\n",
        "            total_letters += len(line.strip())\n",
        "            if line.strip().startswith('P'):\n",
        "                lines_starting_with_T += 1\n",
        "\n",
        "        print(f\"Total number of lines: {total_lines}\")\n",
        "        print(f\"Total number of words: {total_words}\")\n",
        "        print(f\"Total number of letters: {total_letters}\")\n",
        "        print(f\"Number of lines starting with 'T': {lines_starting_with_T}\")\n",
        "except FileNotFoundError:\n",
        "    print(f\"File '{filename}' not found.\")"
      ],
      "metadata": {
        "colab": {
          "base_uri": "https://localhost:8080/"
        },
        "id": "Ejinfmk_PXBG",
        "outputId": "7e24ebe5-3ca0-48c9-fd33-2db4fe1db7ae"
      },
      "execution_count": null,
      "outputs": [
        {
          "output_type": "stream",
          "name": "stdout",
          "text": [
            "Total number of lines: 1\n",
            "Total number of words: 3\n",
            "Total number of letters: 27\n",
            "Number of lines starting with 'T': 1\n"
          ]
        }
      ]
    },
    {
      "cell_type": "markdown",
      "source": [
        "Use all the advance concepts in one program getter,setter,map,lambda,decorators and generators and the remaining"
      ],
      "metadata": {
        "id": "5cbh-rRaQ0rv"
      }
    },
    {
      "cell_type": "code",
      "source": [
        "import random\n",
        "\n",
        "def memoize(func):\n",
        "    cache = {}\n",
        "\n",
        "    def wrapper(*args):\n",
        "        if args not in cache:\n",
        "            cache[args] = func(*args)\n",
        "        return cache[args]\n",
        "\n",
        "    return wrapper\n",
        "\n",
        "class AdvancedConceptsExample:\n",
        "    def __init__(self):\n",
        "        self._data = []\n",
        "        self._computed_value = None\n",
        "\n",
        "    # Getter\n",
        "    @property\n",
        "    def data(self):\n",
        "        return self._data\n",
        "\n",
        "    # Setter\n",
        "    @data.setter\n",
        "    def data(self, value):\n",
        "        if isinstance(value, list):\n",
        "            self._data = value\n",
        "        else:\n",
        "            raise ValueError(\"Data must be a list\")\n",
        "\n",
        "    # Generator\n",
        "    def generate_random_numbers(self, n):\n",
        "        for _ in range(n):\n",
        "            yield random.randint(1, 100)\n",
        "\n",
        "    # Lambda function\n",
        "    square = lambda x: x**2\n",
        "\n",
        "\n",
        "    @memoize\n",
        "    def compute_value(self, x, y):\n",
        "        print(\"Computing...\")\n",
        "        return x * y\n",
        "\n",
        "\n",
        "if __name__ == \"__main__\":\n",
        "    example = AdvancedConceptsExample()\n",
        "\n",
        "    # Setter usage\n",
        "    example.data = [1, 2, 3, 4, 5]\n",
        "\n",
        "    # Generator usage\n",
        "    print(\"Random Numbers:\")\n",
        "    for num in example.generate_random_numbers(5):\n",
        "        print(num)\n",
        "\n",
        "    print(\"Computed Value (Memoized):\", example.compute_value(2, 3))\n",
        "    print(\"Computed Value (Memoized):\", example.compute_value(2, 3))\n",
        "    print(\"Computed Value (Memoized):\", example.compute_value(3, 4))\n"
      ],
      "metadata": {
        "colab": {
          "base_uri": "https://localhost:8080/"
        },
        "id": "gwrfsaHkQ1J8",
        "outputId": "b6e196e0-3f5c-46ec-cf21-9e3b83008959"
      },
      "execution_count": null,
      "outputs": [
        {
          "output_type": "stream",
          "name": "stdout",
          "text": [
            "Random Numbers:\n",
            "78\n",
            "37\n",
            "79\n",
            "46\n",
            "27\n",
            "Computing...\n",
            "Computed Value (Memoized): 6\n",
            "Computed Value (Memoized): 6\n",
            "Computing...\n",
            "Computed Value (Memoized): 12\n"
          ]
        }
      ]
    }
  ]
}