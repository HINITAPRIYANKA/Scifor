{
  "nbformat": 4,
  "nbformat_minor": 0,
  "metadata": {
    "colab": {
      "provenance": [],
      "include_colab_link": true
    },
    "kernelspec": {
      "name": "python3",
      "display_name": "Python 3"
    },
    "language_info": {
      "name": "python"
    }
  },
  "cells": [
    {
      "cell_type": "markdown",
      "metadata": {
        "id": "view-in-github",
        "colab_type": "text"
      },
      "source": [
        "<a href=\"https://colab.research.google.com/github/HINITAPRIYANKA/Scifor/blob/main/Day_4_Loops.ipynb\" target=\"_parent\"><img src=\"https://colab.research.google.com/assets/colab-badge.svg\" alt=\"Open In Colab\"/></a>"
      ]
    },
    {
      "cell_type": "code",
      "execution_count": null,
      "metadata": {
        "colab": {
          "base_uri": "https://localhost:8080/"
        },
        "id": "Td2eTH_aYr51",
        "outputId": "a1ffad63-08b8-48f3-ad96-6dbbf7482d9b"
      },
      "outputs": [
        {
          "output_type": "stream",
          "name": "stdout",
          "text": [
            "Enter any number:1\n",
            "Enter any number:9\n",
            "1 x 1 = 1\n",
            "2 x 1 = 2\n",
            "3 x 1 = 3\n",
            "4 x 1 = 4\n",
            "5 x 1 = 5\n",
            "6 x 1 = 6\n",
            "7 x 1 = 7\n",
            "8 x 1 = 8\n",
            "9 x 1 = 9\n",
            "10 x 1 = 10\n",
            "1 x 2 = 2\n",
            "2 x 2 = 4\n",
            "3 x 2 = 6\n",
            "4 x 2 = 8\n",
            "5 x 2 = 10\n",
            "6 x 2 = 12\n",
            "7 x 2 = 14\n",
            "8 x 2 = 16\n",
            "9 x 2 = 18\n",
            "10 x 2 = 20\n",
            "1 x 3 = 3\n",
            "2 x 3 = 6\n",
            "3 x 3 = 9\n",
            "4 x 3 = 12\n",
            "5 x 3 = 15\n",
            "6 x 3 = 18\n",
            "7 x 3 = 21\n",
            "8 x 3 = 24\n",
            "9 x 3 = 27\n",
            "10 x 3 = 30\n",
            "1 x 4 = 4\n",
            "2 x 4 = 8\n",
            "3 x 4 = 12\n",
            "4 x 4 = 16\n",
            "5 x 4 = 20\n",
            "6 x 4 = 24\n",
            "7 x 4 = 28\n",
            "8 x 4 = 32\n",
            "9 x 4 = 36\n",
            "10 x 4 = 40\n",
            "1 x 5 = 5\n",
            "2 x 5 = 10\n",
            "3 x 5 = 15\n",
            "4 x 5 = 20\n",
            "5 x 5 = 25\n",
            "6 x 5 = 30\n",
            "7 x 5 = 35\n",
            "8 x 5 = 40\n",
            "9 x 5 = 45\n",
            "10 x 5 = 50\n",
            "1 x 6 = 6\n",
            "2 x 6 = 12\n",
            "3 x 6 = 18\n",
            "4 x 6 = 24\n",
            "5 x 6 = 30\n",
            "6 x 6 = 36\n",
            "7 x 6 = 42\n",
            "8 x 6 = 48\n",
            "9 x 6 = 54\n",
            "10 x 6 = 60\n",
            "1 x 7 = 7\n",
            "2 x 7 = 14\n",
            "3 x 7 = 21\n",
            "4 x 7 = 28\n",
            "5 x 7 = 35\n",
            "6 x 7 = 42\n",
            "7 x 7 = 49\n",
            "8 x 7 = 56\n",
            "9 x 7 = 63\n",
            "10 x 7 = 70\n",
            "1 x 8 = 8\n",
            "2 x 8 = 16\n",
            "3 x 8 = 24\n",
            "4 x 8 = 32\n",
            "5 x 8 = 40\n",
            "6 x 8 = 48\n",
            "7 x 8 = 56\n",
            "8 x 8 = 64\n",
            "9 x 8 = 72\n",
            "10 x 8 = 80\n"
          ]
        }
      ],
      "source": [
        "min = int(input(\"Enter any number:\"))\n",
        "max = int(input(\"Enter any number:\"))\n",
        "for j in range(min,max):\n",
        "  for i in range(1,11):\n",
        "    print(i,\"x\",j,\"=\",i*j)"
      ]
    },
    {
      "cell_type": "code",
      "source": [
        "count = 1\n",
        "sum = 0\n",
        "while sum<40:\n",
        "  sum+=count\n",
        "  print(sum)\n",
        "  count+=1\n"
      ],
      "metadata": {
        "colab": {
          "base_uri": "https://localhost:8080/"
        },
        "id": "L2d5iyayngvI",
        "outputId": "5e31e999-8e2d-4972-f11e-fff8693ea95d"
      },
      "execution_count": null,
      "outputs": [
        {
          "output_type": "stream",
          "name": "stdout",
          "text": [
            "1\n",
            "3\n",
            "6\n",
            "10\n",
            "15\n",
            "21\n",
            "28\n",
            "36\n",
            "45\n"
          ]
        }
      ]
    },
    {
      "cell_type": "code",
      "source": [
        "#RTO age verification\n",
        "registered_user_age = input(\"Enter your age:\")\n",
        "if (registered_user_age<str(18)):\n",
        "  print(\"You are not eligible\")\n",
        "else:\n",
        "  print(\"You are eligible\")"
      ],
      "metadata": {
        "colab": {
          "base_uri": "https://localhost:8080/"
        },
        "id": "sA7MrI0WUY15",
        "outputId": "eb824b5a-f95f-4cbf-dc5e-7a240feb2a3f"
      },
      "execution_count": null,
      "outputs": [
        {
          "output_type": "stream",
          "name": "stdout",
          "text": [
            "Enter your age:56\n",
            "You are eligible\n"
          ]
        }
      ]
    },
    {
      "cell_type": "code",
      "source": [
        "#Leap Year\n",
        "def leap_year(year):\n",
        " if (year%4==0) and (year%100!=0) or (year%400==0):\n",
        "  return True\n",
        " else:\n",
        "  return False\n",
        "year = int(input(\"Enter the year\"))\n",
        "if leap_year(year):\n",
        "  print(\"TRUE\")\n",
        "else:\n",
        "  print(\"False\")"
      ],
      "metadata": {
        "colab": {
          "base_uri": "https://localhost:8080/"
        },
        "id": "4xiaupeJZNr6",
        "outputId": "1e9538c5-4c37-4cea-f9c3-8a0837a693fc"
      },
      "execution_count": null,
      "outputs": [
        {
          "output_type": "stream",
          "name": "stdout",
          "text": [
            "Enter the year1990\n",
            "False\n"
          ]
        }
      ]
    },
    {
      "cell_type": "code",
      "source": [
        "#BMI Calculator\n",
        "weight=float(input(\"enter your weight in kg:\"))\n",
        "height=float(input(\"enter your height in meter:\"))\n",
        "BMI=weight/height**2\n",
        "if BMI>=25:\n",
        "  print(\"You are overweight do exercise\")\n",
        "elif BMI>=18.5 and BMI <=24.9:\n",
        "  print(\"Good you are healthy and fit\")\n",
        "else:\n",
        "  print(\"Eat good food you are underweight\")"
      ],
      "metadata": {
        "colab": {
          "base_uri": "https://localhost:8080/"
        },
        "id": "O49JvqYrNKSF",
        "outputId": "63a8763f-1a44-4e9c-fc97-875dbeb8af3a"
      },
      "execution_count": null,
      "outputs": [
        {
          "output_type": "stream",
          "name": "stdout",
          "text": [
            "enter your weight in kg:54\n",
            "enter your height in meter:5.5\n",
            "eat good food you are underweight\n"
          ]
        }
      ]
    },
    {
      "cell_type": "code",
      "execution_count": null,
      "metadata": {
        "colab": {
          "base_uri": "https://localhost:8080/"
        },
        "id": "VVXv58kzZyAp",
        "outputId": "09408fde-3150-446a-faa4-9defc2db7a21"
      },
      "outputs": [
        {
          "output_type": "stream",
          "name": "stdout",
          "text": [
            "enter no of possible outcomes:4\n",
            "enter no of favourable outcomes:6\n",
            "probability 1.5\n"
          ]
        }
      ],
      "source": [
        "#Probability\n",
        "possible_outcomes=int(input(\"enter no of possible outcomes:\"))\n",
        "favourable_outcomes=int(input(\"enter no of favourable outcomes:\"))\n",
        "probability=favourable_outcomes/possible_outcomes\n",
        "print(\"probability\",round(probability,2))"
      ]
    },
    {
      "cell_type": "code",
      "source": [
        "#Tax calculator\n",
        "income=int(input(\"Enter your annual income:\"))\n",
        "if income<=250000:\n",
        "  print(\"Tax is Nil\")\n",
        "if income>250000 and income<=500000:\n",
        "  print(f\"Tax is{0.05*(income-250000)}\")\n",
        "if income>500000 and income<=750000:\n",
        "  print(f\"Tax is{0.1*(income-250000)}\")\n",
        "if income>750000 and income<=100000:\n",
        "  print(f\"Tax is{0.15*(income-250000)}\")\n",
        "if income>100000 and income<=1250000:\n",
        "  print(f\"Tax is{0.20*(income-250000)}\")\n",
        "if income>1250000 and income<=1500000:\n",
        "  print(f\"Tax is{0.25*(income-250000)}\")\n",
        "if income>1500000:\n",
        "  print(f\"Tax is{0.3*(income-250000)}\")\n"
      ],
      "metadata": {
        "colab": {
          "base_uri": "https://localhost:8080/"
        },
        "id": "3jQkxoJVI3D1",
        "outputId": "dafa2bda-8df3-4ed3-978d-094fab9bc689"
      },
      "execution_count": null,
      "outputs": [
        {
          "output_type": "stream",
          "name": "stdout",
          "text": [
            "Enter your annual income:500000\n",
            "Tax is12500.0\n",
            "Tax is50000.0\n"
          ]
        }
      ]
    },
    {
      "cell_type": "code",
      "source": [
        "username=input(\"enter your name:\")\n",
        "print(f\"Hi My name is Jenni. A Very Good Day To You {username}!!.\")\n",
        "user_feeling=input(\"How are you feeling today??\")\n",
        "if user_feeling.lower()=='good':\n",
        "  print('Its really a productive day to do something innovative and you are close to it.')\n",
        "elif user_feeling.lower()=='bad':\n",
        "  print(f\"Don't worry!! you got this {username}!!. buckle up and cheer yourself up\")\n",
        "\n",
        "else:\n",
        "  print(\"That's interesting! Keep the positive vibes going.\")"
      ],
      "metadata": {
        "colab": {
          "base_uri": "https://localhost:8080/"
        },
        "id": "XIqD8wvIcmUv",
        "outputId": "b276b810-b0f5-47f0-e752-581e19f80bd9"
      },
      "execution_count": null,
      "outputs": [
        {
          "output_type": "stream",
          "name": "stdout",
          "text": [
            "enter your name:Sandy\n",
            "Hi My name is Jenni. A Very Good Day To You Sandy!!.\n",
            "How are you feeling today??Very bad\n",
            "That's interesting! Keep the positive vibes going.\n"
          ]
        }
      ]
    },
    {
      "cell_type": "code",
      "source": [
        "principal_amt=10000\n",
        "time=30\n",
        "rate_of_int=6/100\n",
        "simple_int=(principal_amt * time * rate_of_int)\n",
        "amount=principal_amt+ simple_int\n",
        "compund_amt=principal_amt*(1+rate_of_int)**time\n",
        "print(\"after 30 year the amount Yash will have is \",amount)\n",
        "print(\"after 30 year the amount vishal will have is \",round(compund_amt,2))\n",
        "print(f\"the difference of amount between yash and vishal is{round(compund_amt-amount,2)}\")"
      ],
      "metadata": {
        "colab": {
          "base_uri": "https://localhost:8080/"
        },
        "id": "rWenaR7KDCjd",
        "outputId": "3dcec5ec-563f-46d7-db05-48316eddaa7c"
      },
      "execution_count": null,
      "outputs": [
        {
          "output_type": "stream",
          "name": "stdout",
          "text": [
            "after 30 year the amount Yash will have is  28000.0\n",
            "after 30 year the amount vishal will have is  57434.91\n",
            "the difference of amount between yash and vishal is29434.91\n"
          ]
        }
      ]
    },
    {
      "cell_type": "code",
      "source": [
        "my_colors=[]\n",
        "while True:\n",
        "  colors=input('enter your color:')\n",
        "  my_colors.append(colors)\n",
        "  print(\"write exit if you want to stop\")\n",
        "\n",
        "  if colors.lower()==\"exit\":\n",
        "    break\n",
        "print(\"**************\")\n",
        "for i in my_colors:\n",
        "  if i==\"red\":#as jack is thinking some logic to put when the color is red\n",
        "    pass\n",
        "  else:\n",
        "    print(i.upper())\n"
      ],
      "metadata": {
        "colab": {
          "base_uri": "https://localhost:8080/"
        },
        "id": "dKlwgBqJ36Fi",
        "outputId": "3b73770f-e9bc-4985-d22c-26ef98865e9a"
      },
      "execution_count": null,
      "outputs": [
        {
          "output_type": "stream",
          "name": "stdout",
          "text": [
            "enter your color:green\n",
            "write exit if you want to stop\n",
            "enter your color:blue\n",
            "write exit if you want to stop\n",
            "enter your color:exit\n",
            "write exit if you want to stop\n",
            "**************\n",
            "GREEN\n",
            "BLUE\n",
            "EXIT\n"
          ]
        }
      ]
    },
    {
      "cell_type": "code",
      "source": [
        "bank_balance = 50000\n",
        "choice = int(input(\"Enter your choice (1-4): \"))\n",
        "\n",
        "if choice == 1:\n",
        "   amount = int(input(\"Enter the withdrawl amount: \"))\n",
        "   if amount % 100 == 0:\n",
        "             if amount <= bank_balance:\n",
        "              bank_balance -= amount\n",
        "              print(f\"Withdrawal of {amount} successful. Remaining balance: {bank_balance}\")\n",
        "             else:\n",
        "              print(\"Insufficient funds.\")\n",
        "   else:\n",
        "      print(\"Please enter an amount that is a multiple of 100.\")\n",
        "\n",
        "\n",
        "\n",
        "elif choice == 2:\n",
        "        amount = int(input(\"Enter the deposit amount: \"))\n",
        "        bank_balance +=bank_balance\n",
        "        print(\"Your bank_balance is\",bank_balance)\n",
        "elif choice == 3:\n",
        "        print(\"Your bank_balance is\",bank_balance)\n",
        "\n",
        "elif choice == 4:\n",
        "        print(\"Fast Cash Options:\")\n",
        "        fast_cash=[5000, 10000, 15000, 20000, 25000, 30000, 40000, 45000, 50000]\n",
        "        for options in fast_cash:\n",
        "            print(f\" Withdraw {options}\")\n",
        "        option = int(input(\"Select an option: \"))\n",
        "        if option in fast_cash:\n",
        "          if option % 100 == 0:\n",
        "             if option <= bank_balance:\n",
        "              bank_balance -= option\n",
        "              print(f\"Withdrawal of {option} successful. Remaining balance: {bank_balance}\")\n",
        "             else:\n",
        "              print(\"Insufficient funds.\")\n",
        "          else:\n",
        "             print(\"Please enter an amount that is a multiple of 100.\")\n",
        "        else:\n",
        "          print(\"invalid fast cash option\")\n",
        "\n",
        "else:\n",
        "        print(\"Invalid choice. Please enter a valid option.\")\n",
        "\n",
        "\n",
        "\n",
        "\n",
        "\n"
      ],
      "metadata": {
        "colab": {
          "base_uri": "https://localhost:8080/"
        },
        "id": "5Sqxk8g3gv4o",
        "outputId": "c43fadb5-a387-4856-fe41-d12a66e62018"
      },
      "execution_count": null,
      "outputs": [
        {
          "output_type": "stream",
          "name": "stdout",
          "text": [
            "Enter your choice (1-4): 3\n",
            "Your bank_balance is 50000\n"
          ]
        }
      ]
    }
  ]
}