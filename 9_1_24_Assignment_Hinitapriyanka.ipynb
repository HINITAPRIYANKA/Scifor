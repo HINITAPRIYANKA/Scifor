{
  "nbformat": 4,
  "nbformat_minor": 0,
  "metadata": {
    "colab": {
      "provenance": [],
      "authorship_tag": "ABX9TyOauNhxKTthGp90NN2Zk3hL",
      "include_colab_link": true
    },
    "kernelspec": {
      "name": "python3",
      "display_name": "Python 3"
    },
    "language_info": {
      "name": "python"
    }
  },
  "cells": [
    {
      "cell_type": "markdown",
      "metadata": {
        "id": "view-in-github",
        "colab_type": "text"
      },
      "source": [
        "<a href=\"https://colab.research.google.com/github/HINITAPRIYANKA/Scifor/blob/main/9_1_24_Assignment_Hinitapriyanka.ipynb\" target=\"_parent\"><img src=\"https://colab.research.google.com/assets/colab-badge.svg\" alt=\"Open In Colab\"/></a>"
      ]
    },
    {
      "cell_type": "code",
      "execution_count": null,
      "metadata": {
        "colab": {
          "base_uri": "https://localhost:8080/"
        },
        "id": "4U2kHFUcTelK",
        "outputId": "ffef15d0-9cb9-4c94-f8ac-243d1953968a"
      },
      "outputs": [
        {
          "output_type": "stream",
          "name": "stdout",
          "text": [
            "Enter a number:5\n",
            "6\n"
          ]
        }
      ],
      "source": [
        "#convert odd numbers to even numbers in a list\n",
        "Num=int(input(\"Enter a number:\"))\n",
        "if Num%2!=0:\n",
        "   Num+=1\n",
        "print(Num)"
      ]
    },
    {
      "cell_type": "code",
      "source": [
        "# replace the first element with the last and last with the first in a list\n",
        "A=[2,4,3,6,8,7,9,10]\n",
        "for i in range(len(A)):\n",
        "  if A[i]%2!=0:\n",
        "   A[i]+=1\n",
        "print(A)\n"
      ],
      "metadata": {
        "colab": {
          "base_uri": "https://localhost:8080/"
        },
        "id": "IoC4evfdU8ql",
        "outputId": "a103ed79-7fb6-452d-b6c4-895686543f9d"
      },
      "execution_count": null,
      "outputs": [
        {
          "output_type": "stream",
          "name": "stdout",
          "text": [
            "[2, 4, 4, 6, 8, 8, 10, 10]\n"
          ]
        }
      ]
    },
    {
      "cell_type": "code",
      "source": [
        "user_input = input(\"Enter a list: \")\n",
        "list =  user_input.split()\n",
        "if list:\n",
        "    list[0], list[-1] = list[-1], list[0]\n",
        "    print(\"List after swapping first and last element:\", list)\n",
        "else:\n",
        "    print(\"List is empty.\")\n"
      ],
      "metadata": {
        "colab": {
          "base_uri": "https://localhost:8080/"
        },
        "id": "SyljnDKQmzdI",
        "outputId": "09f7b8be-a349-4a85-8931-f78d74153fb8"
      },
      "execution_count": null,
      "outputs": [
        {
          "output_type": "stream",
          "name": "stdout",
          "text": [
            "Enter a list: h 5 3 4 'hini'\n",
            "List after swapping first and last element: [\"'hini'\", '5', '3', '4', 'h']\n"
          ]
        }
      ]
    },
    {
      "cell_type": "code",
      "source": [
        "#program to take user inputs and add the inputs to a list\n",
        "user_list = []\n",
        "while True:\n",
        "    user_input = input(\"Enter an element: \")\n",
        "    if user_input.lower() == 'done':\n",
        "        break\n",
        "    user_list.append(user_input)\n",
        "print(\"User input list:\", user_list)"
      ],
      "metadata": {
        "colab": {
          "base_uri": "https://localhost:8080/"
        },
        "id": "3tKIlcykHHLB",
        "outputId": "7469ad07-c0ce-467d-ed38-4612494fdd83"
      },
      "execution_count": null,
      "outputs": [
        {
          "output_type": "stream",
          "name": "stdout",
          "text": [
            "Enter an element: 2 3 5\n",
            "Enter an element: h o p\n",
            "Enter an element: \"Hini\"\n",
            "Enter an element: done\n",
            "User input list: ['2 3 5', 'h o p', '\"Hini\"']\n"
          ]
        }
      ]
    },
    {
      "cell_type": "code",
      "source": [
        "employee_names = [\"001-Jack\", \"002-Jacob\", \"003-Crystal\", \"006-Kylie\", \"007-Chuck\", \"0010-Andre\"]\n",
        "print(\"Initial Employee List:\", employee_names)\n",
        "#correct employee names\n",
        "employee_names[1] = \"002-Jake\"\n",
        "employee_names[3] = \"006-Kyliee\"\n",
        "\n",
        "# Add new names\n",
        "employee_names.append(\"011-Mia\")\n",
        "employee_names.insert(3, \"004-Alex\")\n",
        "\n",
        "# Add names of employees who couldn't show up on the Date Of Joining\n",
        "employee_names.insert(2, \"005-Rachel\")\n",
        "employee_names.insert(5, \"008-Mark\")\n",
        "\n",
        "# Delete an employee who has resigned\n",
        "employee_names.remove(\"003-Crystal\")\n",
        "\n",
        "# Delete the entire new employees record once the project is done\n",
        "del employee_names[employee_names.index(\"011-Mia\"):]\n",
        "\n",
        "\n",
        "print(\"Final Employee List:\", employee_names)\n"
      ],
      "metadata": {
        "colab": {
          "base_uri": "https://localhost:8080/"
        },
        "id": "gdywGvEqHHFZ",
        "outputId": "698debaa-cfe3-4040-cc73-13e6b16a7104"
      },
      "execution_count": null,
      "outputs": [
        {
          "output_type": "stream",
          "name": "stdout",
          "text": [
            "Initial Employee List: ['001-Jack', '002-Jacob', '003-Crystal', '006-Kylie', '007-Chuck', '0010-Andre']\n",
            "Final Employee List: ['001-Jack', '002-Jake', '005-Rachel', '004-Alex', '008-Mark', '006-Kyliee', '007-Chuck', '0010-Andre']\n"
          ]
        }
      ]
    }
  ]
}